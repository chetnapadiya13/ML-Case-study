{
 "cells": [
  {
   "cell_type": "markdown",
   "metadata": {},
   "source": [
    "# Support Vector Machine"
   ]
  },
  {
   "cell_type": "code",
   "execution_count": 1,
   "metadata": {},
   "outputs": [],
   "source": [
    "import numpy as np\n",
    "import pandas as pd\n",
    "import matplotlib.pyplot as plt\n",
    "import seaborn as sns\n",
    "\n",
    "from sklearn.model_selection import train_test_split\n",
    "from sklearn.metrics import classification_report"
   ]
  },
  {
   "cell_type": "code",
   "execution_count": 2,
   "metadata": {},
   "outputs": [],
   "source": [
    "df=pd.read_csv(\"data/mobile.csv\")"
   ]
  },
  {
   "cell_type": "code",
   "execution_count": 3,
   "metadata": {},
   "outputs": [
    {
     "data": {
      "text/html": [
       "<div>\n",
       "<style scoped>\n",
       "    .dataframe tbody tr th:only-of-type {\n",
       "        vertical-align: middle;\n",
       "    }\n",
       "\n",
       "    .dataframe tbody tr th {\n",
       "        vertical-align: top;\n",
       "    }\n",
       "\n",
       "    .dataframe thead th {\n",
       "        text-align: right;\n",
       "    }\n",
       "</style>\n",
       "<table border=\"1\" class=\"dataframe\">\n",
       "  <thead>\n",
       "    <tr style=\"text-align: right;\">\n",
       "      <th></th>\n",
       "      <th>battery_power</th>\n",
       "      <th>blue</th>\n",
       "      <th>clock_speed</th>\n",
       "      <th>dual_sim</th>\n",
       "      <th>fc</th>\n",
       "      <th>four_g</th>\n",
       "      <th>int_memory</th>\n",
       "      <th>m_dep</th>\n",
       "      <th>mobile_wt</th>\n",
       "      <th>n_cores</th>\n",
       "      <th>...</th>\n",
       "      <th>px_height</th>\n",
       "      <th>px_width</th>\n",
       "      <th>ram</th>\n",
       "      <th>sc_h</th>\n",
       "      <th>sc_w</th>\n",
       "      <th>talk_time</th>\n",
       "      <th>three_g</th>\n",
       "      <th>touch_screen</th>\n",
       "      <th>wifi</th>\n",
       "      <th>price_range</th>\n",
       "    </tr>\n",
       "  </thead>\n",
       "  <tbody>\n",
       "    <tr>\n",
       "      <td>0</td>\n",
       "      <td>842</td>\n",
       "      <td>0</td>\n",
       "      <td>2.2</td>\n",
       "      <td>0</td>\n",
       "      <td>1</td>\n",
       "      <td>0</td>\n",
       "      <td>7</td>\n",
       "      <td>0.6</td>\n",
       "      <td>188</td>\n",
       "      <td>2</td>\n",
       "      <td>...</td>\n",
       "      <td>20</td>\n",
       "      <td>756</td>\n",
       "      <td>2549</td>\n",
       "      <td>9</td>\n",
       "      <td>7</td>\n",
       "      <td>19</td>\n",
       "      <td>0</td>\n",
       "      <td>0</td>\n",
       "      <td>1</td>\n",
       "      <td>0</td>\n",
       "    </tr>\n",
       "    <tr>\n",
       "      <td>1</td>\n",
       "      <td>1021</td>\n",
       "      <td>1</td>\n",
       "      <td>0.5</td>\n",
       "      <td>1</td>\n",
       "      <td>0</td>\n",
       "      <td>1</td>\n",
       "      <td>53</td>\n",
       "      <td>0.7</td>\n",
       "      <td>136</td>\n",
       "      <td>3</td>\n",
       "      <td>...</td>\n",
       "      <td>905</td>\n",
       "      <td>1988</td>\n",
       "      <td>2631</td>\n",
       "      <td>17</td>\n",
       "      <td>3</td>\n",
       "      <td>7</td>\n",
       "      <td>1</td>\n",
       "      <td>1</td>\n",
       "      <td>0</td>\n",
       "      <td>1</td>\n",
       "    </tr>\n",
       "    <tr>\n",
       "      <td>2</td>\n",
       "      <td>563</td>\n",
       "      <td>1</td>\n",
       "      <td>0.5</td>\n",
       "      <td>1</td>\n",
       "      <td>2</td>\n",
       "      <td>1</td>\n",
       "      <td>41</td>\n",
       "      <td>0.9</td>\n",
       "      <td>145</td>\n",
       "      <td>5</td>\n",
       "      <td>...</td>\n",
       "      <td>1263</td>\n",
       "      <td>1716</td>\n",
       "      <td>2603</td>\n",
       "      <td>11</td>\n",
       "      <td>2</td>\n",
       "      <td>9</td>\n",
       "      <td>1</td>\n",
       "      <td>1</td>\n",
       "      <td>0</td>\n",
       "      <td>1</td>\n",
       "    </tr>\n",
       "    <tr>\n",
       "      <td>3</td>\n",
       "      <td>615</td>\n",
       "      <td>1</td>\n",
       "      <td>2.5</td>\n",
       "      <td>0</td>\n",
       "      <td>0</td>\n",
       "      <td>0</td>\n",
       "      <td>10</td>\n",
       "      <td>0.8</td>\n",
       "      <td>131</td>\n",
       "      <td>6</td>\n",
       "      <td>...</td>\n",
       "      <td>1216</td>\n",
       "      <td>1786</td>\n",
       "      <td>2769</td>\n",
       "      <td>16</td>\n",
       "      <td>8</td>\n",
       "      <td>11</td>\n",
       "      <td>1</td>\n",
       "      <td>0</td>\n",
       "      <td>0</td>\n",
       "      <td>1</td>\n",
       "    </tr>\n",
       "    <tr>\n",
       "      <td>4</td>\n",
       "      <td>1821</td>\n",
       "      <td>1</td>\n",
       "      <td>1.2</td>\n",
       "      <td>0</td>\n",
       "      <td>13</td>\n",
       "      <td>1</td>\n",
       "      <td>44</td>\n",
       "      <td>0.6</td>\n",
       "      <td>141</td>\n",
       "      <td>2</td>\n",
       "      <td>...</td>\n",
       "      <td>1208</td>\n",
       "      <td>1212</td>\n",
       "      <td>1411</td>\n",
       "      <td>8</td>\n",
       "      <td>2</td>\n",
       "      <td>15</td>\n",
       "      <td>1</td>\n",
       "      <td>1</td>\n",
       "      <td>0</td>\n",
       "      <td>0</td>\n",
       "    </tr>\n",
       "  </tbody>\n",
       "</table>\n",
       "<p>5 rows × 21 columns</p>\n",
       "</div>"
      ],
      "text/plain": [
       "   battery_power  blue  clock_speed  dual_sim  fc  four_g  int_memory  m_dep  \\\n",
       "0            842     0          2.2         0   1       0           7    0.6   \n",
       "1           1021     1          0.5         1   0       1          53    0.7   \n",
       "2            563     1          0.5         1   2       1          41    0.9   \n",
       "3            615     1          2.5         0   0       0          10    0.8   \n",
       "4           1821     1          1.2         0  13       1          44    0.6   \n",
       "\n",
       "   mobile_wt  n_cores  ...  px_height  px_width   ram  sc_h  sc_w  talk_time  \\\n",
       "0        188        2  ...         20       756  2549     9     7         19   \n",
       "1        136        3  ...        905      1988  2631    17     3          7   \n",
       "2        145        5  ...       1263      1716  2603    11     2          9   \n",
       "3        131        6  ...       1216      1786  2769    16     8         11   \n",
       "4        141        2  ...       1208      1212  1411     8     2         15   \n",
       "\n",
       "   three_g  touch_screen  wifi  price_range  \n",
       "0        0             0     1            0  \n",
       "1        1             1     0            1  \n",
       "2        1             1     0            1  \n",
       "3        1             0     0            1  \n",
       "4        1             1     0            0  \n",
       "\n",
       "[5 rows x 21 columns]"
      ]
     },
     "execution_count": 3,
     "metadata": {},
     "output_type": "execute_result"
    }
   ],
   "source": [
    "df.head()"
   ]
  },
  {
   "cell_type": "code",
   "execution_count": 4,
   "metadata": {},
   "outputs": [
    {
     "name": "stdout",
     "output_type": "stream",
     "text": [
      "<class 'pandas.core.frame.DataFrame'>\n",
      "RangeIndex: 2000 entries, 0 to 1999\n",
      "Data columns (total 21 columns):\n",
      "battery_power    2000 non-null int64\n",
      "blue             2000 non-null int64\n",
      "clock_speed      2000 non-null float64\n",
      "dual_sim         2000 non-null int64\n",
      "fc               2000 non-null int64\n",
      "four_g           2000 non-null int64\n",
      "int_memory       2000 non-null int64\n",
      "m_dep            2000 non-null float64\n",
      "mobile_wt        2000 non-null int64\n",
      "n_cores          2000 non-null int64\n",
      "pc               2000 non-null int64\n",
      "px_height        2000 non-null int64\n",
      "px_width         2000 non-null int64\n",
      "ram              2000 non-null int64\n",
      "sc_h             2000 non-null int64\n",
      "sc_w             2000 non-null int64\n",
      "talk_time        2000 non-null int64\n",
      "three_g          2000 non-null int64\n",
      "touch_screen     2000 non-null int64\n",
      "wifi             2000 non-null int64\n",
      "price_range      2000 non-null int64\n",
      "dtypes: float64(2), int64(19)\n",
      "memory usage: 328.2 KB\n"
     ]
    }
   ],
   "source": [
    "df.info()"
   ]
  },
  {
   "cell_type": "code",
   "execution_count": 5,
   "metadata": {},
   "outputs": [],
   "source": [
    "x=df.iloc[:,:-1]\n",
    "y=df.iloc[:,-1]"
   ]
  },
  {
   "cell_type": "code",
   "execution_count": 6,
   "metadata": {},
   "outputs": [],
   "source": [
    "x_train,x_test,y_train,y_test=train_test_split(x,y,random_state=1,test_size=0.3)"
   ]
  },
  {
   "cell_type": "markdown",
   "metadata": {},
   "source": [
    "# Simple linear SVM"
   ]
  },
  {
   "cell_type": "code",
   "execution_count": 7,
   "metadata": {},
   "outputs": [],
   "source": [
    "from sklearn.svm import LinearSVC"
   ]
  },
  {
   "cell_type": "code",
   "execution_count": 8,
   "metadata": {},
   "outputs": [],
   "source": [
    "lsv=LinearSVC(random_state=1)"
   ]
  },
  {
   "cell_type": "code",
   "execution_count": 9,
   "metadata": {},
   "outputs": [
    {
     "name": "stderr",
     "output_type": "stream",
     "text": [
      "C:\\ProgramData\\Anaconda3\\lib\\site-packages\\sklearn\\svm\\_base.py:947: ConvergenceWarning: Liblinear failed to converge, increase the number of iterations.\n",
      "  \"the number of iterations.\", ConvergenceWarning)\n"
     ]
    },
    {
     "data": {
      "text/plain": [
       "LinearSVC(C=1.0, class_weight=None, dual=True, fit_intercept=True,\n",
       "          intercept_scaling=1, loss='squared_hinge', max_iter=1000,\n",
       "          multi_class='ovr', penalty='l2', random_state=1, tol=0.0001,\n",
       "          verbose=0)"
      ]
     },
     "execution_count": 9,
     "metadata": {},
     "output_type": "execute_result"
    }
   ],
   "source": [
    "lsv.fit(x_train,y_train)"
   ]
  },
  {
   "cell_type": "code",
   "execution_count": 10,
   "metadata": {},
   "outputs": [],
   "source": [
    "y_pred=lsv.predict(x_test)"
   ]
  },
  {
   "cell_type": "code",
   "execution_count": 11,
   "metadata": {},
   "outputs": [
    {
     "data": {
      "text/plain": [
       "array([0, 0, 0, 0, 0, 0, 0, 0, 0, 1, 0, 1, 0, 0, 0, 0, 0, 0, 0, 0, 1, 0,\n",
       "       0, 0, 1, 0, 0, 0, 0, 0, 0, 0, 1, 0, 0, 0, 0, 0, 0, 0, 0, 0, 0, 0,\n",
       "       0, 0, 0, 0, 0, 1, 0, 1, 0, 0, 0, 0, 0, 0, 0, 0, 0, 0, 0, 1, 0, 0,\n",
       "       0, 0, 0, 0, 0, 0, 0, 0, 0, 0, 0, 0, 0, 0, 0, 1, 0, 0, 1, 1, 0, 0,\n",
       "       0, 0, 0, 0, 0, 0, 0, 0, 0, 0, 0, 0, 0, 0, 0, 0, 1, 0, 0, 0, 0, 0,\n",
       "       0, 1, 0, 0, 0, 0, 1, 0, 0, 0, 0, 0, 0, 0, 1, 0, 0, 0, 0, 0, 0, 0,\n",
       "       0, 1, 0, 0, 0, 0, 0, 0, 0, 0, 0, 0, 0, 0, 0, 0, 0, 0, 0, 0, 0, 0,\n",
       "       0, 0, 0, 0, 0, 0, 0, 0, 1, 0, 0, 0, 0, 0, 1, 0, 0, 0, 0, 0, 0, 1,\n",
       "       1, 0, 0, 0, 0, 1, 0, 0, 0, 0, 0, 0, 0, 0, 0, 0, 0, 0, 0, 0, 0, 0,\n",
       "       0, 0, 0, 0, 0, 0, 0, 0, 0, 0, 0, 0, 0, 0, 0, 0, 0, 0, 0, 0, 0, 0,\n",
       "       0, 0, 1, 0, 0, 1, 0, 0, 0, 0, 0, 0, 1, 1, 0, 0, 0, 0, 1, 0, 0, 0,\n",
       "       0, 0, 0, 0, 0, 0, 1, 1, 0, 0, 0, 0, 0, 0, 0, 0, 0, 0, 1, 0, 0, 0,\n",
       "       0, 0, 0, 0, 0, 0, 0, 0, 0, 0, 0, 0, 0, 0, 0, 0, 0, 0, 0, 0, 0, 0,\n",
       "       0, 1, 0, 0, 0, 0, 0, 1, 0, 0, 0, 0, 1, 0, 0, 0, 0, 0, 0, 0, 0, 0,\n",
       "       0, 0, 0, 0, 0, 0, 0, 0, 0, 0, 0, 0, 1, 0, 0, 0, 0, 0, 0, 0, 0, 1,\n",
       "       0, 0, 0, 0, 0, 0, 0, 0, 0, 0, 0, 0, 0, 0, 0, 0, 1, 0, 0, 0, 0, 1,\n",
       "       0, 0, 0, 0, 1, 0, 1, 0, 1, 0, 0, 0, 0, 0, 0, 0, 0, 0, 0, 1, 0, 0,\n",
       "       1, 1, 1, 0, 0, 0, 0, 0, 0, 0, 0, 0, 1, 0, 0, 0, 1, 0, 0, 0, 0, 0,\n",
       "       1, 1, 0, 0, 0, 0, 0, 0, 0, 0, 1, 0, 0, 1, 0, 0, 0, 1, 1, 0, 0, 0,\n",
       "       1, 1, 0, 1, 0, 0, 0, 0, 0, 0, 0, 0, 0, 0, 0, 0, 0, 0, 0, 0, 1, 0,\n",
       "       0, 0, 0, 0, 0, 1, 0, 0, 1, 0, 0, 0, 0, 0, 0, 0, 0, 0, 1, 0, 0, 0,\n",
       "       0, 0, 0, 1, 0, 0, 0, 0, 0, 0, 0, 0, 0, 0, 0, 0, 0, 0, 0, 0, 0, 0,\n",
       "       1, 0, 1, 0, 0, 0, 0, 0, 0, 0, 0, 0, 0, 0, 0, 0, 0, 0, 0, 0, 0, 0,\n",
       "       0, 0, 0, 1, 0, 0, 0, 0, 0, 0, 1, 0, 1, 0, 0, 1, 0, 0, 1, 0, 0, 1,\n",
       "       0, 0, 0, 0, 0, 0, 0, 0, 1, 0, 1, 0, 0, 0, 0, 0, 0, 0, 1, 0, 0, 0,\n",
       "       0, 0, 0, 1, 0, 0, 0, 0, 1, 0, 0, 0, 0, 1, 0, 0, 0, 0, 0, 0, 0, 0,\n",
       "       0, 0, 1, 0, 0, 0, 0, 0, 0, 0, 0, 1, 0, 0, 0, 0, 0, 0, 0, 0, 1, 0,\n",
       "       0, 0, 0, 0, 0, 1], dtype=int64)"
      ]
     },
     "execution_count": 11,
     "metadata": {},
     "output_type": "execute_result"
    }
   ],
   "source": [
    "y_pred"
   ]
  },
  {
   "cell_type": "code",
   "execution_count": 12,
   "metadata": {},
   "outputs": [
    {
     "name": "stdout",
     "output_type": "stream",
     "text": [
      "              precision    recall  f1-score   support\n",
      "\n",
      "           0       0.54      1.00      0.70       284\n",
      "           1       0.99      0.24      0.39       316\n",
      "\n",
      "    accuracy                           0.60       600\n",
      "   macro avg       0.76      0.62      0.54       600\n",
      "weighted avg       0.78      0.60      0.54       600\n",
      "\n"
     ]
    }
   ],
   "source": [
    "print(classification_report(y_test,y_pred))"
   ]
  },
  {
   "cell_type": "markdown",
   "metadata": {},
   "source": [
    "# soft margin"
   ]
  },
  {
   "cell_type": "code",
   "execution_count": 13,
   "metadata": {},
   "outputs": [],
   "source": [
    "lsv2=LinearSVC(C=0.2,random_state=1)"
   ]
  },
  {
   "cell_type": "code",
   "execution_count": 14,
   "metadata": {},
   "outputs": [
    {
     "name": "stderr",
     "output_type": "stream",
     "text": [
      "C:\\ProgramData\\Anaconda3\\lib\\site-packages\\sklearn\\svm\\_base.py:947: ConvergenceWarning: Liblinear failed to converge, increase the number of iterations.\n",
      "  \"the number of iterations.\", ConvergenceWarning)\n"
     ]
    },
    {
     "data": {
      "text/plain": [
       "LinearSVC(C=0.2, class_weight=None, dual=True, fit_intercept=True,\n",
       "          intercept_scaling=1, loss='squared_hinge', max_iter=1000,\n",
       "          multi_class='ovr', penalty='l2', random_state=1, tol=0.0001,\n",
       "          verbose=0)"
      ]
     },
     "execution_count": 14,
     "metadata": {},
     "output_type": "execute_result"
    }
   ],
   "source": [
    "lsv2.fit(x_train,y_train)"
   ]
  },
  {
   "cell_type": "code",
   "execution_count": 15,
   "metadata": {},
   "outputs": [],
   "source": [
    "y_pred=lsv2.predict(x_test)"
   ]
  },
  {
   "cell_type": "code",
   "execution_count": 16,
   "metadata": {},
   "outputs": [
    {
     "name": "stdout",
     "output_type": "stream",
     "text": [
      "              precision    recall  f1-score   support\n",
      "\n",
      "           0       0.54      1.00      0.70       284\n",
      "           1       0.99      0.24      0.39       316\n",
      "\n",
      "    accuracy                           0.60       600\n",
      "   macro avg       0.76      0.62      0.54       600\n",
      "weighted avg       0.78      0.60      0.54       600\n",
      "\n"
     ]
    }
   ],
   "source": [
    "print(classification_report(y_test,y_pred))"
   ]
  },
  {
   "cell_type": "code",
   "execution_count": 17,
   "metadata": {},
   "outputs": [
    {
     "data": {
      "text/plain": [
       "array([[ 4.89692003e-04, -5.19809040e-03, -1.01697995e-02,\n",
       "        -6.05776999e-03,  4.10116815e-03, -3.93810609e-03,\n",
       "        -8.26906459e-03, -3.98670779e-03, -8.98200742e-03,\n",
       "        -2.25836998e-02, -1.73797644e-02,  9.25315772e-05,\n",
       "        -1.46955473e-04,  6.26255238e-04, -4.39053149e-02,\n",
       "        -6.28050326e-03, -3.14220124e-02, -4.69379287e-03,\n",
       "        -5.46435639e-03, -4.28172557e-03]])"
      ]
     },
     "execution_count": 17,
     "metadata": {},
     "output_type": "execute_result"
    }
   ],
   "source": [
    "lsv2.coef_"
   ]
  },
  {
   "cell_type": "code",
   "execution_count": 18,
   "metadata": {},
   "outputs": [
    {
     "data": {
      "text/plain": [
       "array([-0.00767285])"
      ]
     },
     "execution_count": 18,
     "metadata": {},
     "output_type": "execute_result"
    }
   ],
   "source": [
    "lsv2.intercept_"
   ]
  },
  {
   "cell_type": "markdown",
   "metadata": {},
   "source": [
    "# Kernal Functions"
   ]
  },
  {
   "cell_type": "code",
   "execution_count": 19,
   "metadata": {},
   "outputs": [],
   "source": [
    "from sklearn.svm import SVC"
   ]
  },
  {
   "cell_type": "code",
   "execution_count": 20,
   "metadata": {},
   "outputs": [],
   "source": [
    "svc = SVC(random_state=1,kernel=\"poly\") #polynomial "
   ]
  },
  {
   "cell_type": "code",
   "execution_count": 21,
   "metadata": {},
   "outputs": [
    {
     "data": {
      "text/plain": [
       "SVC(C=1.0, break_ties=False, cache_size=200, class_weight=None, coef0=0.0,\n",
       "    decision_function_shape='ovr', degree=3, gamma='scale', kernel='poly',\n",
       "    max_iter=-1, probability=False, random_state=1, shrinking=True, tol=0.001,\n",
       "    verbose=False)"
      ]
     },
     "execution_count": 21,
     "metadata": {},
     "output_type": "execute_result"
    }
   ],
   "source": [
    "svc.fit(x_train,y_train)"
   ]
  },
  {
   "cell_type": "code",
   "execution_count": 22,
   "metadata": {},
   "outputs": [],
   "source": [
    "y_pred=svc.predict(x_test)"
   ]
  },
  {
   "cell_type": "code",
   "execution_count": 23,
   "metadata": {},
   "outputs": [
    {
     "data": {
      "text/plain": [
       "array([0, 0, 0, 0, 1, 1, 0, 1, 1, 1, 0, 1, 0, 0, 1, 0, 0, 0, 0, 0, 1, 1,\n",
       "       0, 1, 1, 1, 1, 1, 1, 1, 1, 0, 1, 0, 1, 1, 0, 0, 0, 0, 0, 0, 1, 0,\n",
       "       0, 0, 1, 1, 0, 1, 0, 1, 0, 1, 0, 1, 0, 1, 1, 0, 0, 1, 0, 1, 1, 0,\n",
       "       0, 1, 1, 1, 0, 0, 0, 1, 1, 0, 1, 0, 0, 0, 0, 1, 0, 1, 1, 1, 1, 0,\n",
       "       0, 0, 1, 0, 0, 0, 1, 1, 1, 0, 1, 1, 1, 1, 0, 0, 1, 0, 0, 0, 0, 1,\n",
       "       0, 1, 0, 0, 1, 1, 1, 0, 1, 0, 1, 0, 0, 0, 1, 0, 0, 0, 0, 0, 0, 1,\n",
       "       0, 1, 1, 0, 1, 1, 1, 0, 0, 0, 1, 0, 0, 1, 0, 0, 0, 0, 1, 1, 0, 0,\n",
       "       0, 1, 0, 0, 1, 0, 1, 0, 1, 1, 1, 0, 1, 1, 1, 1, 1, 0, 1, 1, 0, 1,\n",
       "       1, 0, 0, 1, 0, 1, 0, 0, 1, 1, 1, 0, 1, 0, 1, 1, 1, 1, 0, 0, 0, 1,\n",
       "       1, 0, 1, 1, 0, 0, 1, 1, 1, 0, 0, 1, 0, 1, 1, 0, 1, 0, 0, 0, 1, 0,\n",
       "       0, 0, 1, 0, 1, 1, 0, 1, 1, 0, 0, 1, 1, 1, 1, 0, 0, 0, 1, 1, 1, 1,\n",
       "       1, 0, 0, 0, 1, 0, 1, 1, 1, 0, 1, 0, 0, 0, 0, 1, 1, 0, 1, 0, 0, 0,\n",
       "       1, 0, 1, 0, 1, 1, 1, 0, 0, 0, 1, 1, 0, 0, 0, 1, 1, 1, 1, 1, 1, 0,\n",
       "       0, 1, 0, 0, 0, 1, 1, 1, 0, 0, 0, 1, 1, 1, 1, 1, 0, 0, 1, 0, 0, 0,\n",
       "       0, 0, 1, 0, 1, 0, 0, 1, 1, 0, 1, 1, 1, 0, 0, 0, 1, 0, 0, 0, 1, 1,\n",
       "       1, 0, 0, 0, 0, 1, 1, 1, 0, 1, 1, 1, 1, 1, 0, 1, 1, 1, 1, 1, 0, 1,\n",
       "       0, 0, 1, 0, 1, 1, 1, 1, 1, 0, 1, 0, 0, 0, 1, 1, 0, 0, 1, 1, 0, 0,\n",
       "       1, 1, 1, 0, 1, 1, 1, 1, 1, 1, 1, 0, 1, 1, 0, 0, 1, 1, 1, 0, 1, 1,\n",
       "       1, 1, 0, 0, 0, 0, 0, 0, 0, 1, 1, 1, 0, 1, 0, 0, 0, 1, 1, 1, 1, 1,\n",
       "       1, 1, 1, 1, 0, 0, 1, 0, 0, 1, 0, 1, 0, 0, 1, 1, 0, 0, 0, 0, 1, 1,\n",
       "       0, 1, 1, 1, 1, 1, 0, 1, 1, 0, 1, 1, 0, 0, 1, 0, 1, 0, 1, 1, 0, 0,\n",
       "       0, 1, 0, 1, 1, 1, 0, 0, 0, 1, 0, 1, 0, 1, 0, 0, 0, 1, 0, 1, 0, 0,\n",
       "       1, 0, 1, 1, 1, 0, 1, 0, 1, 0, 0, 1, 0, 0, 1, 0, 1, 0, 0, 1, 0, 1,\n",
       "       1, 1, 0, 1, 0, 0, 0, 0, 0, 0, 1, 0, 1, 0, 0, 1, 1, 1, 1, 0, 0, 1,\n",
       "       1, 0, 1, 0, 1, 0, 0, 1, 1, 1, 0, 1, 0, 0, 0, 0, 0, 1, 1, 1, 0, 1,\n",
       "       1, 0, 0, 1, 0, 1, 1, 0, 1, 0, 1, 0, 1, 1, 1, 1, 1, 1, 1, 1, 0, 0,\n",
       "       0, 1, 1, 1, 1, 0, 1, 1, 0, 0, 1, 1, 0, 1, 1, 1, 0, 1, 1, 1, 1, 0,\n",
       "       1, 0, 1, 1, 1, 1], dtype=int64)"
      ]
     },
     "execution_count": 23,
     "metadata": {},
     "output_type": "execute_result"
    }
   ],
   "source": [
    "y_pred"
   ]
  },
  {
   "cell_type": "code",
   "execution_count": 24,
   "metadata": {},
   "outputs": [
    {
     "name": "stdout",
     "output_type": "stream",
     "text": [
      "              precision    recall  f1-score   support\n",
      "\n",
      "           0       0.98      0.98      0.98       284\n",
      "           1       0.98      0.98      0.98       316\n",
      "\n",
      "    accuracy                           0.98       600\n",
      "   macro avg       0.98      0.98      0.98       600\n",
      "weighted avg       0.98      0.98      0.98       600\n",
      "\n"
     ]
    }
   ],
   "source": [
    "print(classification_report(y_test,y_pred))"
   ]
  },
  {
   "cell_type": "code",
   "execution_count": 25,
   "metadata": {},
   "outputs": [],
   "source": [
    "# the data was not linearly separable so when we use polynomial at that time \n",
    "#hyperplabe pattern was polynomial to separate our data\n"
   ]
  },
  {
   "cell_type": "markdown",
   "metadata": {},
   "source": [
    "# Gridsearch SVM"
   ]
  },
  {
   "cell_type": "code",
   "execution_count": 26,
   "metadata": {},
   "outputs": [],
   "source": [
    "from sklearn.model_selection import GridSearchCV"
   ]
  },
  {
   "cell_type": "code",
   "execution_count": 27,
   "metadata": {},
   "outputs": [],
   "source": [
    "C=[1.0,0.25,0.5,0.75]\n",
    "kernel=[\"linear\",\"rbf\"]\n",
    "gamma=[\"auto\",0.01,0.001,0.0001,1]\n",
    "decision_function_shape=[\"ovo\",\"ovr\"]\n",
    "#ovr = one vs rest\n",
    "#one vs one "
   ]
  },
  {
   "cell_type": "code",
   "execution_count": 33,
   "metadata": {},
   "outputs": [
    {
     "name": "stdout",
     "output_type": "stream",
     "text": [
      "Fitting 5 folds for each of 80 candidates, totalling 400 fits\n",
      "[CV] C=1.0, decision_function_shape=ovo, gamma=auto, kernel=linear ...\n"
     ]
    },
    {
     "name": "stderr",
     "output_type": "stream",
     "text": [
      "[Parallel(n_jobs=1)]: Using backend SequentialBackend with 1 concurrent workers.\n"
     ]
    },
    {
     "name": "stdout",
     "output_type": "stream",
     "text": [
      "[CV]  C=1.0, decision_function_shape=ovo, gamma=auto, kernel=linear, score=0.996, total=   7.1s\n",
      "[CV] C=1.0, decision_function_shape=ovo, gamma=auto, kernel=linear ...\n"
     ]
    },
    {
     "name": "stderr",
     "output_type": "stream",
     "text": [
      "[Parallel(n_jobs=1)]: Done   1 out of   1 | elapsed:    7.0s remaining:    0.0s\n"
     ]
    },
    {
     "name": "stdout",
     "output_type": "stream",
     "text": [
      "[CV]  C=1.0, decision_function_shape=ovo, gamma=auto, kernel=linear, score=0.989, total=   1.6s\n",
      "[CV] C=1.0, decision_function_shape=ovo, gamma=auto, kernel=linear ...\n"
     ]
    },
    {
     "name": "stderr",
     "output_type": "stream",
     "text": [
      "[Parallel(n_jobs=1)]: Done   2 out of   2 | elapsed:    8.5s remaining:    0.0s\n"
     ]
    },
    {
     "name": "stdout",
     "output_type": "stream",
     "text": [
      "[CV]  C=1.0, decision_function_shape=ovo, gamma=auto, kernel=linear, score=0.986, total=   3.8s\n",
      "[CV] C=1.0, decision_function_shape=ovo, gamma=auto, kernel=linear ...\n"
     ]
    },
    {
     "name": "stderr",
     "output_type": "stream",
     "text": [
      "[Parallel(n_jobs=1)]: Done   3 out of   3 | elapsed:   12.4s remaining:    0.0s\n"
     ]
    },
    {
     "name": "stdout",
     "output_type": "stream",
     "text": [
      "[CV]  C=1.0, decision_function_shape=ovo, gamma=auto, kernel=linear, score=0.989, total=   1.1s\n",
      "[CV] C=1.0, decision_function_shape=ovo, gamma=auto, kernel=linear ...\n"
     ]
    },
    {
     "name": "stderr",
     "output_type": "stream",
     "text": [
      "[Parallel(n_jobs=1)]: Done   4 out of   4 | elapsed:   13.4s remaining:    0.0s\n"
     ]
    },
    {
     "name": "stdout",
     "output_type": "stream",
     "text": [
      "[CV]  C=1.0, decision_function_shape=ovo, gamma=auto, kernel=linear, score=0.986, total=   6.0s\n",
      "[CV] C=1.0, decision_function_shape=ovo, gamma=auto, kernel=rbf ......\n",
      "[CV]  C=1.0, decision_function_shape=ovo, gamma=auto, kernel=rbf, score=0.514, total=   0.3s\n",
      "[CV] C=1.0, decision_function_shape=ovo, gamma=auto, kernel=rbf ......\n",
      "[CV]  C=1.0, decision_function_shape=ovo, gamma=auto, kernel=rbf, score=0.511, total=   0.2s\n",
      "[CV] C=1.0, decision_function_shape=ovo, gamma=auto, kernel=rbf ......\n",
      "[CV]  C=1.0, decision_function_shape=ovo, gamma=auto, kernel=rbf, score=0.511, total=   0.2s\n",
      "[CV] C=1.0, decision_function_shape=ovo, gamma=auto, kernel=rbf ......\n",
      "[CV]  C=1.0, decision_function_shape=ovo, gamma=auto, kernel=rbf, score=0.511, total=   0.3s\n",
      "[CV] C=1.0, decision_function_shape=ovo, gamma=auto, kernel=rbf ......\n",
      "[CV]  C=1.0, decision_function_shape=ovo, gamma=auto, kernel=rbf, score=0.511, total=   0.2s\n",
      "[CV] C=1.0, decision_function_shape=ovo, gamma=0.01, kernel=linear ...\n",
      "[CV]  C=1.0, decision_function_shape=ovo, gamma=0.01, kernel=linear, score=0.996, total=   7.4s\n",
      "[CV] C=1.0, decision_function_shape=ovo, gamma=0.01, kernel=linear ...\n",
      "[CV]  C=1.0, decision_function_shape=ovo, gamma=0.01, kernel=linear, score=0.989, total=   1.8s\n",
      "[CV] C=1.0, decision_function_shape=ovo, gamma=0.01, kernel=linear ...\n",
      "[CV]  C=1.0, decision_function_shape=ovo, gamma=0.01, kernel=linear, score=0.986, total=   4.6s\n",
      "[CV] C=1.0, decision_function_shape=ovo, gamma=0.01, kernel=linear ...\n",
      "[CV]  C=1.0, decision_function_shape=ovo, gamma=0.01, kernel=linear, score=0.989, total=   1.2s\n",
      "[CV] C=1.0, decision_function_shape=ovo, gamma=0.01, kernel=linear ...\n",
      "[CV]  C=1.0, decision_function_shape=ovo, gamma=0.01, kernel=linear, score=0.986, total=   7.6s\n",
      "[CV] C=1.0, decision_function_shape=ovo, gamma=0.01, kernel=rbf ......\n",
      "[CV]  C=1.0, decision_function_shape=ovo, gamma=0.01, kernel=rbf, score=0.514, total=   0.3s\n",
      "[CV] C=1.0, decision_function_shape=ovo, gamma=0.01, kernel=rbf ......\n",
      "[CV]  C=1.0, decision_function_shape=ovo, gamma=0.01, kernel=rbf, score=0.511, total=   0.2s\n",
      "[CV] C=1.0, decision_function_shape=ovo, gamma=0.01, kernel=rbf ......\n",
      "[CV]  C=1.0, decision_function_shape=ovo, gamma=0.01, kernel=rbf, score=0.511, total=   0.3s\n",
      "[CV] C=1.0, decision_function_shape=ovo, gamma=0.01, kernel=rbf ......\n",
      "[CV]  C=1.0, decision_function_shape=ovo, gamma=0.01, kernel=rbf, score=0.511, total=   0.3s\n",
      "[CV] C=1.0, decision_function_shape=ovo, gamma=0.01, kernel=rbf ......\n",
      "[CV]  C=1.0, decision_function_shape=ovo, gamma=0.01, kernel=rbf, score=0.511, total=   0.3s\n",
      "[CV] C=1.0, decision_function_shape=ovo, gamma=0.001, kernel=linear ..\n",
      "[CV]  C=1.0, decision_function_shape=ovo, gamma=0.001, kernel=linear, score=0.996, total=   7.8s\n",
      "[CV] C=1.0, decision_function_shape=ovo, gamma=0.001, kernel=linear ..\n",
      "[CV]  C=1.0, decision_function_shape=ovo, gamma=0.001, kernel=linear, score=0.989, total=   1.9s\n",
      "[CV] C=1.0, decision_function_shape=ovo, gamma=0.001, kernel=linear ..\n",
      "[CV]  C=1.0, decision_function_shape=ovo, gamma=0.001, kernel=linear, score=0.986, total=   5.1s\n",
      "[CV] C=1.0, decision_function_shape=ovo, gamma=0.001, kernel=linear ..\n",
      "[CV]  C=1.0, decision_function_shape=ovo, gamma=0.001, kernel=linear, score=0.989, total=   1.3s\n",
      "[CV] C=1.0, decision_function_shape=ovo, gamma=0.001, kernel=linear ..\n",
      "[CV]  C=1.0, decision_function_shape=ovo, gamma=0.001, kernel=linear, score=0.986, total=   7.1s\n",
      "[CV] C=1.0, decision_function_shape=ovo, gamma=0.001, kernel=rbf .....\n",
      "[CV]  C=1.0, decision_function_shape=ovo, gamma=0.001, kernel=rbf, score=0.518, total=   0.3s\n",
      "[CV] C=1.0, decision_function_shape=ovo, gamma=0.001, kernel=rbf .....\n",
      "[CV]  C=1.0, decision_function_shape=ovo, gamma=0.001, kernel=rbf, score=0.514, total=   0.3s\n",
      "[CV] C=1.0, decision_function_shape=ovo, gamma=0.001, kernel=rbf .....\n",
      "[CV]  C=1.0, decision_function_shape=ovo, gamma=0.001, kernel=rbf, score=0.511, total=   0.3s\n",
      "[CV] C=1.0, decision_function_shape=ovo, gamma=0.001, kernel=rbf .....\n",
      "[CV]  C=1.0, decision_function_shape=ovo, gamma=0.001, kernel=rbf, score=0.511, total=   0.3s\n",
      "[CV] C=1.0, decision_function_shape=ovo, gamma=0.001, kernel=rbf .....\n",
      "[CV]  C=1.0, decision_function_shape=ovo, gamma=0.001, kernel=rbf, score=0.511, total=   0.2s\n",
      "[CV] C=1.0, decision_function_shape=ovo, gamma=0.0001, kernel=linear .\n",
      "[CV]  C=1.0, decision_function_shape=ovo, gamma=0.0001, kernel=linear, score=0.996, total=   8.1s\n",
      "[CV] C=1.0, decision_function_shape=ovo, gamma=0.0001, kernel=linear .\n",
      "[CV]  C=1.0, decision_function_shape=ovo, gamma=0.0001, kernel=linear, score=0.989, total=   1.6s\n",
      "[CV] C=1.0, decision_function_shape=ovo, gamma=0.0001, kernel=linear .\n",
      "[CV]  C=1.0, decision_function_shape=ovo, gamma=0.0001, kernel=linear, score=0.986, total=   4.4s\n",
      "[CV] C=1.0, decision_function_shape=ovo, gamma=0.0001, kernel=linear .\n",
      "[CV]  C=1.0, decision_function_shape=ovo, gamma=0.0001, kernel=linear, score=0.989, total=   1.2s\n",
      "[CV] C=1.0, decision_function_shape=ovo, gamma=0.0001, kernel=linear .\n",
      "[CV]  C=1.0, decision_function_shape=ovo, gamma=0.0001, kernel=linear, score=0.986, total=   5.9s\n",
      "[CV] C=1.0, decision_function_shape=ovo, gamma=0.0001, kernel=rbf ....\n",
      "[CV]  C=1.0, decision_function_shape=ovo, gamma=0.0001, kernel=rbf, score=0.721, total=   0.1s\n",
      "[CV] C=1.0, decision_function_shape=ovo, gamma=0.0001, kernel=rbf ....\n",
      "[CV]  C=1.0, decision_function_shape=ovo, gamma=0.0001, kernel=rbf, score=0.689, total=   0.2s\n",
      "[CV] C=1.0, decision_function_shape=ovo, gamma=0.0001, kernel=rbf ....\n",
      "[CV]  C=1.0, decision_function_shape=ovo, gamma=0.0001, kernel=rbf, score=0.689, total=   0.2s\n",
      "[CV] C=1.0, decision_function_shape=ovo, gamma=0.0001, kernel=rbf ....\n",
      "[CV]  C=1.0, decision_function_shape=ovo, gamma=0.0001, kernel=rbf, score=0.668, total=   0.1s\n",
      "[CV] C=1.0, decision_function_shape=ovo, gamma=0.0001, kernel=rbf ....\n",
      "[CV]  C=1.0, decision_function_shape=ovo, gamma=0.0001, kernel=rbf, score=0.689, total=   0.1s\n",
      "[CV] C=1.0, decision_function_shape=ovo, gamma=1, kernel=linear ......\n",
      "[CV]  C=1.0, decision_function_shape=ovo, gamma=1, kernel=linear, score=0.996, total=   6.6s\n",
      "[CV] C=1.0, decision_function_shape=ovo, gamma=1, kernel=linear ......\n",
      "[CV]  C=1.0, decision_function_shape=ovo, gamma=1, kernel=linear, score=0.989, total=   1.4s\n",
      "[CV] C=1.0, decision_function_shape=ovo, gamma=1, kernel=linear ......\n",
      "[CV]  C=1.0, decision_function_shape=ovo, gamma=1, kernel=linear, score=0.986, total=   3.9s\n",
      "[CV] C=1.0, decision_function_shape=ovo, gamma=1, kernel=linear ......\n",
      "[CV]  C=1.0, decision_function_shape=ovo, gamma=1, kernel=linear, score=0.989, total=   1.1s\n",
      "[CV] C=1.0, decision_function_shape=ovo, gamma=1, kernel=linear ......\n",
      "[CV]  C=1.0, decision_function_shape=ovo, gamma=1, kernel=linear, score=0.986, total=   6.4s\n",
      "[CV] C=1.0, decision_function_shape=ovo, gamma=1, kernel=rbf .........\n",
      "[CV]  C=1.0, decision_function_shape=ovo, gamma=1, kernel=rbf, score=0.514, total=   0.3s\n",
      "[CV] C=1.0, decision_function_shape=ovo, gamma=1, kernel=rbf .........\n",
      "[CV]  C=1.0, decision_function_shape=ovo, gamma=1, kernel=rbf, score=0.511, total=   0.3s\n",
      "[CV] C=1.0, decision_function_shape=ovo, gamma=1, kernel=rbf .........\n",
      "[CV]  C=1.0, decision_function_shape=ovo, gamma=1, kernel=rbf, score=0.511, total=   0.3s\n",
      "[CV] C=1.0, decision_function_shape=ovo, gamma=1, kernel=rbf .........\n",
      "[CV]  C=1.0, decision_function_shape=ovo, gamma=1, kernel=rbf, score=0.511, total=   0.2s\n",
      "[CV] C=1.0, decision_function_shape=ovo, gamma=1, kernel=rbf .........\n",
      "[CV]  C=1.0, decision_function_shape=ovo, gamma=1, kernel=rbf, score=0.511, total=   0.3s\n",
      "[CV] C=1.0, decision_function_shape=ovr, gamma=auto, kernel=linear ...\n",
      "[CV]  C=1.0, decision_function_shape=ovr, gamma=auto, kernel=linear, score=0.996, total=   7.1s\n",
      "[CV] C=1.0, decision_function_shape=ovr, gamma=auto, kernel=linear ...\n",
      "[CV]  C=1.0, decision_function_shape=ovr, gamma=auto, kernel=linear, score=0.989, total=   1.8s\n",
      "[CV] C=1.0, decision_function_shape=ovr, gamma=auto, kernel=linear ...\n",
      "[CV]  C=1.0, decision_function_shape=ovr, gamma=auto, kernel=linear, score=0.986, total=   4.3s\n",
      "[CV] C=1.0, decision_function_shape=ovr, gamma=auto, kernel=linear ...\n",
      "[CV]  C=1.0, decision_function_shape=ovr, gamma=auto, kernel=linear, score=0.989, total=   1.1s\n",
      "[CV] C=1.0, decision_function_shape=ovr, gamma=auto, kernel=linear ...\n"
     ]
    },
    {
     "name": "stdout",
     "output_type": "stream",
     "text": [
      "[CV]  C=1.0, decision_function_shape=ovr, gamma=auto, kernel=linear, score=0.986, total=   6.6s\n",
      "[CV] C=1.0, decision_function_shape=ovr, gamma=auto, kernel=rbf ......\n",
      "[CV]  C=1.0, decision_function_shape=ovr, gamma=auto, kernel=rbf, score=0.514, total=   0.3s\n",
      "[CV] C=1.0, decision_function_shape=ovr, gamma=auto, kernel=rbf ......\n",
      "[CV]  C=1.0, decision_function_shape=ovr, gamma=auto, kernel=rbf, score=0.511, total=   0.3s\n",
      "[CV] C=1.0, decision_function_shape=ovr, gamma=auto, kernel=rbf ......\n",
      "[CV]  C=1.0, decision_function_shape=ovr, gamma=auto, kernel=rbf, score=0.511, total=   0.3s\n",
      "[CV] C=1.0, decision_function_shape=ovr, gamma=auto, kernel=rbf ......\n",
      "[CV]  C=1.0, decision_function_shape=ovr, gamma=auto, kernel=rbf, score=0.511, total=   0.3s\n",
      "[CV] C=1.0, decision_function_shape=ovr, gamma=auto, kernel=rbf ......\n",
      "[CV]  C=1.0, decision_function_shape=ovr, gamma=auto, kernel=rbf, score=0.511, total=   0.3s\n",
      "[CV] C=1.0, decision_function_shape=ovr, gamma=0.01, kernel=linear ...\n",
      "[CV]  C=1.0, decision_function_shape=ovr, gamma=0.01, kernel=linear, score=0.996, total=   7.8s\n",
      "[CV] C=1.0, decision_function_shape=ovr, gamma=0.01, kernel=linear ...\n",
      "[CV]  C=1.0, decision_function_shape=ovr, gamma=0.01, kernel=linear, score=0.989, total=   1.8s\n",
      "[CV] C=1.0, decision_function_shape=ovr, gamma=0.01, kernel=linear ...\n",
      "[CV]  C=1.0, decision_function_shape=ovr, gamma=0.01, kernel=linear, score=0.986, total=   5.2s\n",
      "[CV] C=1.0, decision_function_shape=ovr, gamma=0.01, kernel=linear ...\n",
      "[CV]  C=1.0, decision_function_shape=ovr, gamma=0.01, kernel=linear, score=0.989, total=   1.2s\n",
      "[CV] C=1.0, decision_function_shape=ovr, gamma=0.01, kernel=linear ...\n",
      "[CV]  C=1.0, decision_function_shape=ovr, gamma=0.01, kernel=linear, score=0.986, total=   7.3s\n",
      "[CV] C=1.0, decision_function_shape=ovr, gamma=0.01, kernel=rbf ......\n",
      "[CV]  C=1.0, decision_function_shape=ovr, gamma=0.01, kernel=rbf, score=0.514, total=   0.3s\n",
      "[CV] C=1.0, decision_function_shape=ovr, gamma=0.01, kernel=rbf ......\n",
      "[CV]  C=1.0, decision_function_shape=ovr, gamma=0.01, kernel=rbf, score=0.511, total=   0.3s\n",
      "[CV] C=1.0, decision_function_shape=ovr, gamma=0.01, kernel=rbf ......\n",
      "[CV]  C=1.0, decision_function_shape=ovr, gamma=0.01, kernel=rbf, score=0.511, total=   0.3s\n",
      "[CV] C=1.0, decision_function_shape=ovr, gamma=0.01, kernel=rbf ......\n",
      "[CV]  C=1.0, decision_function_shape=ovr, gamma=0.01, kernel=rbf, score=0.511, total=   0.3s\n",
      "[CV] C=1.0, decision_function_shape=ovr, gamma=0.01, kernel=rbf ......\n",
      "[CV]  C=1.0, decision_function_shape=ovr, gamma=0.01, kernel=rbf, score=0.511, total=   0.3s\n",
      "[CV] C=1.0, decision_function_shape=ovr, gamma=0.001, kernel=linear ..\n",
      "[CV]  C=1.0, decision_function_shape=ovr, gamma=0.001, kernel=linear, score=0.996, total=   9.2s\n",
      "[CV] C=1.0, decision_function_shape=ovr, gamma=0.001, kernel=linear ..\n",
      "[CV]  C=1.0, decision_function_shape=ovr, gamma=0.001, kernel=linear, score=0.989, total=   2.1s\n",
      "[CV] C=1.0, decision_function_shape=ovr, gamma=0.001, kernel=linear ..\n",
      "[CV]  C=1.0, decision_function_shape=ovr, gamma=0.001, kernel=linear, score=0.986, total=   4.5s\n",
      "[CV] C=1.0, decision_function_shape=ovr, gamma=0.001, kernel=linear ..\n",
      "[CV]  C=1.0, decision_function_shape=ovr, gamma=0.001, kernel=linear, score=0.989, total=   1.2s\n",
      "[CV] C=1.0, decision_function_shape=ovr, gamma=0.001, kernel=linear ..\n",
      "[CV]  C=1.0, decision_function_shape=ovr, gamma=0.001, kernel=linear, score=0.986, total=   7.7s\n",
      "[CV] C=1.0, decision_function_shape=ovr, gamma=0.001, kernel=rbf .....\n",
      "[CV]  C=1.0, decision_function_shape=ovr, gamma=0.001, kernel=rbf, score=0.518, total=   0.3s\n",
      "[CV] C=1.0, decision_function_shape=ovr, gamma=0.001, kernel=rbf .....\n",
      "[CV]  C=1.0, decision_function_shape=ovr, gamma=0.001, kernel=rbf, score=0.514, total=   0.2s\n",
      "[CV] C=1.0, decision_function_shape=ovr, gamma=0.001, kernel=rbf .....\n",
      "[CV]  C=1.0, decision_function_shape=ovr, gamma=0.001, kernel=rbf, score=0.511, total=   0.2s\n",
      "[CV] C=1.0, decision_function_shape=ovr, gamma=0.001, kernel=rbf .....\n",
      "[CV]  C=1.0, decision_function_shape=ovr, gamma=0.001, kernel=rbf, score=0.511, total=   0.2s\n",
      "[CV] C=1.0, decision_function_shape=ovr, gamma=0.001, kernel=rbf .....\n",
      "[CV]  C=1.0, decision_function_shape=ovr, gamma=0.001, kernel=rbf, score=0.511, total=   0.2s\n",
      "[CV] C=1.0, decision_function_shape=ovr, gamma=0.0001, kernel=linear .\n",
      "[CV]  C=1.0, decision_function_shape=ovr, gamma=0.0001, kernel=linear, score=0.996, total=   8.1s\n",
      "[CV] C=1.0, decision_function_shape=ovr, gamma=0.0001, kernel=linear .\n",
      "[CV]  C=1.0, decision_function_shape=ovr, gamma=0.0001, kernel=linear, score=0.989, total=   2.2s\n",
      "[CV] C=1.0, decision_function_shape=ovr, gamma=0.0001, kernel=linear .\n",
      "[CV]  C=1.0, decision_function_shape=ovr, gamma=0.0001, kernel=linear, score=0.986, total=   5.4s\n",
      "[CV] C=1.0, decision_function_shape=ovr, gamma=0.0001, kernel=linear .\n",
      "[CV]  C=1.0, decision_function_shape=ovr, gamma=0.0001, kernel=linear, score=0.989, total=   1.4s\n",
      "[CV] C=1.0, decision_function_shape=ovr, gamma=0.0001, kernel=linear .\n",
      "[CV]  C=1.0, decision_function_shape=ovr, gamma=0.0001, kernel=linear, score=0.986, total=   6.8s\n",
      "[CV] C=1.0, decision_function_shape=ovr, gamma=0.0001, kernel=rbf ....\n",
      "[CV]  C=1.0, decision_function_shape=ovr, gamma=0.0001, kernel=rbf, score=0.721, total=   0.2s\n",
      "[CV] C=1.0, decision_function_shape=ovr, gamma=0.0001, kernel=rbf ....\n",
      "[CV]  C=1.0, decision_function_shape=ovr, gamma=0.0001, kernel=rbf, score=0.689, total=   0.2s\n",
      "[CV] C=1.0, decision_function_shape=ovr, gamma=0.0001, kernel=rbf ....\n",
      "[CV]  C=1.0, decision_function_shape=ovr, gamma=0.0001, kernel=rbf, score=0.689, total=   0.2s\n",
      "[CV] C=1.0, decision_function_shape=ovr, gamma=0.0001, kernel=rbf ....\n",
      "[CV]  C=1.0, decision_function_shape=ovr, gamma=0.0001, kernel=rbf, score=0.668, total=   0.2s\n",
      "[CV] C=1.0, decision_function_shape=ovr, gamma=0.0001, kernel=rbf ....\n",
      "[CV]  C=1.0, decision_function_shape=ovr, gamma=0.0001, kernel=rbf, score=0.689, total=   0.2s\n",
      "[CV] C=1.0, decision_function_shape=ovr, gamma=1, kernel=linear ......\n",
      "[CV]  C=1.0, decision_function_shape=ovr, gamma=1, kernel=linear, score=0.996, total=   6.8s\n",
      "[CV] C=1.0, decision_function_shape=ovr, gamma=1, kernel=linear ......\n",
      "[CV]  C=1.0, decision_function_shape=ovr, gamma=1, kernel=linear, score=0.989, total=   1.5s\n",
      "[CV] C=1.0, decision_function_shape=ovr, gamma=1, kernel=linear ......\n",
      "[CV]  C=1.0, decision_function_shape=ovr, gamma=1, kernel=linear, score=0.986, total=   3.9s\n",
      "[CV] C=1.0, decision_function_shape=ovr, gamma=1, kernel=linear ......\n",
      "[CV]  C=1.0, decision_function_shape=ovr, gamma=1, kernel=linear, score=0.989, total=   1.1s\n",
      "[CV] C=1.0, decision_function_shape=ovr, gamma=1, kernel=linear ......\n",
      "[CV]  C=1.0, decision_function_shape=ovr, gamma=1, kernel=linear, score=0.986, total=   7.6s\n",
      "[CV] C=1.0, decision_function_shape=ovr, gamma=1, kernel=rbf .........\n",
      "[CV]  C=1.0, decision_function_shape=ovr, gamma=1, kernel=rbf, score=0.514, total=   0.3s\n",
      "[CV] C=1.0, decision_function_shape=ovr, gamma=1, kernel=rbf .........\n",
      "[CV]  C=1.0, decision_function_shape=ovr, gamma=1, kernel=rbf, score=0.511, total=   0.4s\n",
      "[CV] C=1.0, decision_function_shape=ovr, gamma=1, kernel=rbf .........\n",
      "[CV]  C=1.0, decision_function_shape=ovr, gamma=1, kernel=rbf, score=0.511, total=   0.3s\n",
      "[CV] C=1.0, decision_function_shape=ovr, gamma=1, kernel=rbf .........\n",
      "[CV]  C=1.0, decision_function_shape=ovr, gamma=1, kernel=rbf, score=0.511, total=   0.4s\n",
      "[CV] C=1.0, decision_function_shape=ovr, gamma=1, kernel=rbf .........\n",
      "[CV]  C=1.0, decision_function_shape=ovr, gamma=1, kernel=rbf, score=0.511, total=   0.3s\n",
      "[CV] C=0.25, decision_function_shape=ovo, gamma=auto, kernel=linear ..\n",
      "[CV]  C=0.25, decision_function_shape=ovo, gamma=auto, kernel=linear, score=0.996, total=   2.0s\n",
      "[CV] C=0.25, decision_function_shape=ovo, gamma=auto, kernel=linear ..\n",
      "[CV]  C=0.25, decision_function_shape=ovo, gamma=auto, kernel=linear, score=0.986, total=   0.4s\n",
      "[CV] C=0.25, decision_function_shape=ovo, gamma=auto, kernel=linear ..\n",
      "[CV]  C=0.25, decision_function_shape=ovo, gamma=auto, kernel=linear, score=0.993, total=   3.1s\n",
      "[CV] C=0.25, decision_function_shape=ovo, gamma=auto, kernel=linear ..\n",
      "[CV]  C=0.25, decision_function_shape=ovo, gamma=auto, kernel=linear, score=0.989, total=   0.4s\n",
      "[CV] C=0.25, decision_function_shape=ovo, gamma=auto, kernel=linear ..\n"
     ]
    },
    {
     "name": "stdout",
     "output_type": "stream",
     "text": [
      "[CV]  C=0.25, decision_function_shape=ovo, gamma=auto, kernel=linear, score=0.986, total=   2.2s\n",
      "[CV] C=0.25, decision_function_shape=ovo, gamma=auto, kernel=rbf .....\n",
      "[CV]  C=0.25, decision_function_shape=ovo, gamma=auto, kernel=rbf, score=0.514, total=   0.2s\n",
      "[CV] C=0.25, decision_function_shape=ovo, gamma=auto, kernel=rbf .....\n",
      "[CV]  C=0.25, decision_function_shape=ovo, gamma=auto, kernel=rbf, score=0.511, total=   0.2s\n",
      "[CV] C=0.25, decision_function_shape=ovo, gamma=auto, kernel=rbf .....\n",
      "[CV]  C=0.25, decision_function_shape=ovo, gamma=auto, kernel=rbf, score=0.511, total=   0.2s\n",
      "[CV] C=0.25, decision_function_shape=ovo, gamma=auto, kernel=rbf .....\n",
      "[CV]  C=0.25, decision_function_shape=ovo, gamma=auto, kernel=rbf, score=0.511, total=   0.2s\n",
      "[CV] C=0.25, decision_function_shape=ovo, gamma=auto, kernel=rbf .....\n",
      "[CV]  C=0.25, decision_function_shape=ovo, gamma=auto, kernel=rbf, score=0.511, total=   0.2s\n",
      "[CV] C=0.25, decision_function_shape=ovo, gamma=0.01, kernel=linear ..\n",
      "[CV]  C=0.25, decision_function_shape=ovo, gamma=0.01, kernel=linear, score=0.996, total=   2.1s\n",
      "[CV] C=0.25, decision_function_shape=ovo, gamma=0.01, kernel=linear ..\n",
      "[CV]  C=0.25, decision_function_shape=ovo, gamma=0.01, kernel=linear, score=0.986, total=   0.4s\n",
      "[CV] C=0.25, decision_function_shape=ovo, gamma=0.01, kernel=linear ..\n",
      "[CV]  C=0.25, decision_function_shape=ovo, gamma=0.01, kernel=linear, score=0.993, total=   2.9s\n",
      "[CV] C=0.25, decision_function_shape=ovo, gamma=0.01, kernel=linear ..\n",
      "[CV]  C=0.25, decision_function_shape=ovo, gamma=0.01, kernel=linear, score=0.989, total=   0.3s\n",
      "[CV] C=0.25, decision_function_shape=ovo, gamma=0.01, kernel=linear ..\n",
      "[CV]  C=0.25, decision_function_shape=ovo, gamma=0.01, kernel=linear, score=0.986, total=   2.4s\n",
      "[CV] C=0.25, decision_function_shape=ovo, gamma=0.01, kernel=rbf .....\n",
      "[CV]  C=0.25, decision_function_shape=ovo, gamma=0.01, kernel=rbf, score=0.514, total=   0.2s\n",
      "[CV] C=0.25, decision_function_shape=ovo, gamma=0.01, kernel=rbf .....\n",
      "[CV]  C=0.25, decision_function_shape=ovo, gamma=0.01, kernel=rbf, score=0.511, total=   0.2s\n",
      "[CV] C=0.25, decision_function_shape=ovo, gamma=0.01, kernel=rbf .....\n",
      "[CV]  C=0.25, decision_function_shape=ovo, gamma=0.01, kernel=rbf, score=0.511, total=   0.2s\n",
      "[CV] C=0.25, decision_function_shape=ovo, gamma=0.01, kernel=rbf .....\n",
      "[CV]  C=0.25, decision_function_shape=ovo, gamma=0.01, kernel=rbf, score=0.511, total=   0.2s\n",
      "[CV] C=0.25, decision_function_shape=ovo, gamma=0.01, kernel=rbf .....\n",
      "[CV]  C=0.25, decision_function_shape=ovo, gamma=0.01, kernel=rbf, score=0.511, total=   0.2s\n",
      "[CV] C=0.25, decision_function_shape=ovo, gamma=0.001, kernel=linear .\n",
      "[CV]  C=0.25, decision_function_shape=ovo, gamma=0.001, kernel=linear, score=0.996, total=   2.0s\n",
      "[CV] C=0.25, decision_function_shape=ovo, gamma=0.001, kernel=linear .\n",
      "[CV]  C=0.25, decision_function_shape=ovo, gamma=0.001, kernel=linear, score=0.986, total=   0.4s\n",
      "[CV] C=0.25, decision_function_shape=ovo, gamma=0.001, kernel=linear .\n",
      "[CV]  C=0.25, decision_function_shape=ovo, gamma=0.001, kernel=linear, score=0.993, total=   2.8s\n",
      "[CV] C=0.25, decision_function_shape=ovo, gamma=0.001, kernel=linear .\n",
      "[CV]  C=0.25, decision_function_shape=ovo, gamma=0.001, kernel=linear, score=0.989, total=   0.3s\n",
      "[CV] C=0.25, decision_function_shape=ovo, gamma=0.001, kernel=linear .\n",
      "[CV]  C=0.25, decision_function_shape=ovo, gamma=0.001, kernel=linear, score=0.986, total=   2.4s\n",
      "[CV] C=0.25, decision_function_shape=ovo, gamma=0.001, kernel=rbf ....\n",
      "[CV]  C=0.25, decision_function_shape=ovo, gamma=0.001, kernel=rbf, score=0.514, total=   0.3s\n",
      "[CV] C=0.25, decision_function_shape=ovo, gamma=0.001, kernel=rbf ....\n",
      "[CV]  C=0.25, decision_function_shape=ovo, gamma=0.001, kernel=rbf, score=0.511, total=   0.3s\n",
      "[CV] C=0.25, decision_function_shape=ovo, gamma=0.001, kernel=rbf ....\n",
      "[CV]  C=0.25, decision_function_shape=ovo, gamma=0.001, kernel=rbf, score=0.511, total=   0.2s\n",
      "[CV] C=0.25, decision_function_shape=ovo, gamma=0.001, kernel=rbf ....\n",
      "[CV]  C=0.25, decision_function_shape=ovo, gamma=0.001, kernel=rbf, score=0.511, total=   0.2s\n",
      "[CV] C=0.25, decision_function_shape=ovo, gamma=0.001, kernel=rbf ....\n",
      "[CV]  C=0.25, decision_function_shape=ovo, gamma=0.001, kernel=rbf, score=0.511, total=   0.2s\n",
      "[CV] C=0.25, decision_function_shape=ovo, gamma=0.0001, kernel=linear \n",
      "[CV]  C=0.25, decision_function_shape=ovo, gamma=0.0001, kernel=linear, score=0.996, total=   2.2s\n",
      "[CV] C=0.25, decision_function_shape=ovo, gamma=0.0001, kernel=linear \n",
      "[CV]  C=0.25, decision_function_shape=ovo, gamma=0.0001, kernel=linear, score=0.986, total=   0.8s\n",
      "[CV] C=0.25, decision_function_shape=ovo, gamma=0.0001, kernel=linear \n",
      "[CV]  C=0.25, decision_function_shape=ovo, gamma=0.0001, kernel=linear, score=0.993, total=   3.9s\n",
      "[CV] C=0.25, decision_function_shape=ovo, gamma=0.0001, kernel=linear \n",
      "[CV]  C=0.25, decision_function_shape=ovo, gamma=0.0001, kernel=linear, score=0.989, total=   0.4s\n",
      "[CV] C=0.25, decision_function_shape=ovo, gamma=0.0001, kernel=linear \n",
      "[CV]  C=0.25, decision_function_shape=ovo, gamma=0.0001, kernel=linear, score=0.986, total=   2.3s\n",
      "[CV] C=0.25, decision_function_shape=ovo, gamma=0.0001, kernel=rbf ...\n",
      "[CV]  C=0.25, decision_function_shape=ovo, gamma=0.0001, kernel=rbf, score=0.514, total=   0.1s\n",
      "[CV] C=0.25, decision_function_shape=ovo, gamma=0.0001, kernel=rbf ...\n",
      "[CV]  C=0.25, decision_function_shape=ovo, gamma=0.0001, kernel=rbf, score=0.511, total=   0.2s\n",
      "[CV] C=0.25, decision_function_shape=ovo, gamma=0.0001, kernel=rbf ...\n",
      "[CV]  C=0.25, decision_function_shape=ovo, gamma=0.0001, kernel=rbf, score=0.511, total=   0.2s\n",
      "[CV] C=0.25, decision_function_shape=ovo, gamma=0.0001, kernel=rbf ...\n",
      "[CV]  C=0.25, decision_function_shape=ovo, gamma=0.0001, kernel=rbf, score=0.511, total=   0.1s\n",
      "[CV] C=0.25, decision_function_shape=ovo, gamma=0.0001, kernel=rbf ...\n",
      "[CV]  C=0.25, decision_function_shape=ovo, gamma=0.0001, kernel=rbf, score=0.511, total=   0.1s\n",
      "[CV] C=0.25, decision_function_shape=ovo, gamma=1, kernel=linear .....\n",
      "[CV]  C=0.25, decision_function_shape=ovo, gamma=1, kernel=linear, score=0.996, total=   2.3s\n",
      "[CV] C=0.25, decision_function_shape=ovo, gamma=1, kernel=linear .....\n",
      "[CV]  C=0.25, decision_function_shape=ovo, gamma=1, kernel=linear, score=0.986, total=   0.4s\n",
      "[CV] C=0.25, decision_function_shape=ovo, gamma=1, kernel=linear .....\n",
      "[CV]  C=0.25, decision_function_shape=ovo, gamma=1, kernel=linear, score=0.993, total=   3.3s\n",
      "[CV] C=0.25, decision_function_shape=ovo, gamma=1, kernel=linear .....\n",
      "[CV]  C=0.25, decision_function_shape=ovo, gamma=1, kernel=linear, score=0.989, total=   0.4s\n",
      "[CV] C=0.25, decision_function_shape=ovo, gamma=1, kernel=linear .....\n",
      "[CV]  C=0.25, decision_function_shape=ovo, gamma=1, kernel=linear, score=0.986, total=   2.8s\n",
      "[CV] C=0.25, decision_function_shape=ovo, gamma=1, kernel=rbf ........\n",
      "[CV]  C=0.25, decision_function_shape=ovo, gamma=1, kernel=rbf, score=0.514, total=   0.3s\n",
      "[CV] C=0.25, decision_function_shape=ovo, gamma=1, kernel=rbf ........\n",
      "[CV]  C=0.25, decision_function_shape=ovo, gamma=1, kernel=rbf, score=0.511, total=   0.3s\n",
      "[CV] C=0.25, decision_function_shape=ovo, gamma=1, kernel=rbf ........\n",
      "[CV]  C=0.25, decision_function_shape=ovo, gamma=1, kernel=rbf, score=0.511, total=   0.4s\n",
      "[CV] C=0.25, decision_function_shape=ovo, gamma=1, kernel=rbf ........\n",
      "[CV]  C=0.25, decision_function_shape=ovo, gamma=1, kernel=rbf, score=0.511, total=   0.3s\n",
      "[CV] C=0.25, decision_function_shape=ovo, gamma=1, kernel=rbf ........\n",
      "[CV]  C=0.25, decision_function_shape=ovo, gamma=1, kernel=rbf, score=0.511, total=   0.3s\n",
      "[CV] C=0.25, decision_function_shape=ovr, gamma=auto, kernel=linear ..\n",
      "[CV]  C=0.25, decision_function_shape=ovr, gamma=auto, kernel=linear, score=0.996, total=   2.3s\n",
      "[CV] C=0.25, decision_function_shape=ovr, gamma=auto, kernel=linear ..\n",
      "[CV]  C=0.25, decision_function_shape=ovr, gamma=auto, kernel=linear, score=0.986, total=   0.5s\n",
      "[CV] C=0.25, decision_function_shape=ovr, gamma=auto, kernel=linear ..\n",
      "[CV]  C=0.25, decision_function_shape=ovr, gamma=auto, kernel=linear, score=0.993, total=   3.4s\n",
      "[CV] C=0.25, decision_function_shape=ovr, gamma=auto, kernel=linear ..\n",
      "[CV]  C=0.25, decision_function_shape=ovr, gamma=auto, kernel=linear, score=0.989, total=   0.4s\n",
      "[CV] C=0.25, decision_function_shape=ovr, gamma=auto, kernel=linear ..\n"
     ]
    },
    {
     "name": "stdout",
     "output_type": "stream",
     "text": [
      "[CV]  C=0.25, decision_function_shape=ovr, gamma=auto, kernel=linear, score=0.986, total=   2.5s\n",
      "[CV] C=0.25, decision_function_shape=ovr, gamma=auto, kernel=rbf .....\n",
      "[CV]  C=0.25, decision_function_shape=ovr, gamma=auto, kernel=rbf, score=0.514, total=   0.3s\n",
      "[CV] C=0.25, decision_function_shape=ovr, gamma=auto, kernel=rbf .....\n",
      "[CV]  C=0.25, decision_function_shape=ovr, gamma=auto, kernel=rbf, score=0.511, total=   0.3s\n",
      "[CV] C=0.25, decision_function_shape=ovr, gamma=auto, kernel=rbf .....\n",
      "[CV]  C=0.25, decision_function_shape=ovr, gamma=auto, kernel=rbf, score=0.511, total=   0.3s\n",
      "[CV] C=0.25, decision_function_shape=ovr, gamma=auto, kernel=rbf .....\n",
      "[CV]  C=0.25, decision_function_shape=ovr, gamma=auto, kernel=rbf, score=0.511, total=   0.2s\n",
      "[CV] C=0.25, decision_function_shape=ovr, gamma=auto, kernel=rbf .....\n",
      "[CV]  C=0.25, decision_function_shape=ovr, gamma=auto, kernel=rbf, score=0.511, total=   0.3s\n",
      "[CV] C=0.25, decision_function_shape=ovr, gamma=0.01, kernel=linear ..\n",
      "[CV]  C=0.25, decision_function_shape=ovr, gamma=0.01, kernel=linear, score=0.996, total=   2.2s\n",
      "[CV] C=0.25, decision_function_shape=ovr, gamma=0.01, kernel=linear ..\n",
      "[CV]  C=0.25, decision_function_shape=ovr, gamma=0.01, kernel=linear, score=0.986, total=   0.4s\n",
      "[CV] C=0.25, decision_function_shape=ovr, gamma=0.01, kernel=linear ..\n",
      "[CV]  C=0.25, decision_function_shape=ovr, gamma=0.01, kernel=linear, score=0.993, total=   3.7s\n",
      "[CV] C=0.25, decision_function_shape=ovr, gamma=0.01, kernel=linear ..\n",
      "[CV]  C=0.25, decision_function_shape=ovr, gamma=0.01, kernel=linear, score=0.989, total=   0.3s\n",
      "[CV] C=0.25, decision_function_shape=ovr, gamma=0.01, kernel=linear ..\n",
      "[CV]  C=0.25, decision_function_shape=ovr, gamma=0.01, kernel=linear, score=0.986, total=   2.3s\n",
      "[CV] C=0.25, decision_function_shape=ovr, gamma=0.01, kernel=rbf .....\n",
      "[CV]  C=0.25, decision_function_shape=ovr, gamma=0.01, kernel=rbf, score=0.514, total=   0.2s\n",
      "[CV] C=0.25, decision_function_shape=ovr, gamma=0.01, kernel=rbf .....\n",
      "[CV]  C=0.25, decision_function_shape=ovr, gamma=0.01, kernel=rbf, score=0.511, total=   0.3s\n",
      "[CV] C=0.25, decision_function_shape=ovr, gamma=0.01, kernel=rbf .....\n",
      "[CV]  C=0.25, decision_function_shape=ovr, gamma=0.01, kernel=rbf, score=0.511, total=   0.2s\n",
      "[CV] C=0.25, decision_function_shape=ovr, gamma=0.01, kernel=rbf .....\n",
      "[CV]  C=0.25, decision_function_shape=ovr, gamma=0.01, kernel=rbf, score=0.511, total=   0.2s\n",
      "[CV] C=0.25, decision_function_shape=ovr, gamma=0.01, kernel=rbf .....\n",
      "[CV]  C=0.25, decision_function_shape=ovr, gamma=0.01, kernel=rbf, score=0.511, total=   0.2s\n",
      "[CV] C=0.25, decision_function_shape=ovr, gamma=0.001, kernel=linear .\n",
      "[CV]  C=0.25, decision_function_shape=ovr, gamma=0.001, kernel=linear, score=0.996, total=   2.4s\n",
      "[CV] C=0.25, decision_function_shape=ovr, gamma=0.001, kernel=linear .\n",
      "[CV]  C=0.25, decision_function_shape=ovr, gamma=0.001, kernel=linear, score=0.986, total=   0.4s\n",
      "[CV] C=0.25, decision_function_shape=ovr, gamma=0.001, kernel=linear .\n",
      "[CV]  C=0.25, decision_function_shape=ovr, gamma=0.001, kernel=linear, score=0.993, total=   3.5s\n",
      "[CV] C=0.25, decision_function_shape=ovr, gamma=0.001, kernel=linear .\n",
      "[CV]  C=0.25, decision_function_shape=ovr, gamma=0.001, kernel=linear, score=0.989, total=   0.4s\n",
      "[CV] C=0.25, decision_function_shape=ovr, gamma=0.001, kernel=linear .\n",
      "[CV]  C=0.25, decision_function_shape=ovr, gamma=0.001, kernel=linear, score=0.986, total=   2.1s\n",
      "[CV] C=0.25, decision_function_shape=ovr, gamma=0.001, kernel=rbf ....\n",
      "[CV]  C=0.25, decision_function_shape=ovr, gamma=0.001, kernel=rbf, score=0.514, total=   0.3s\n",
      "[CV] C=0.25, decision_function_shape=ovr, gamma=0.001, kernel=rbf ....\n",
      "[CV]  C=0.25, decision_function_shape=ovr, gamma=0.001, kernel=rbf, score=0.511, total=   0.3s\n",
      "[CV] C=0.25, decision_function_shape=ovr, gamma=0.001, kernel=rbf ....\n",
      "[CV]  C=0.25, decision_function_shape=ovr, gamma=0.001, kernel=rbf, score=0.511, total=   0.3s\n",
      "[CV] C=0.25, decision_function_shape=ovr, gamma=0.001, kernel=rbf ....\n",
      "[CV]  C=0.25, decision_function_shape=ovr, gamma=0.001, kernel=rbf, score=0.511, total=   0.3s\n",
      "[CV] C=0.25, decision_function_shape=ovr, gamma=0.001, kernel=rbf ....\n",
      "[CV]  C=0.25, decision_function_shape=ovr, gamma=0.001, kernel=rbf, score=0.511, total=   0.3s\n",
      "[CV] C=0.25, decision_function_shape=ovr, gamma=0.0001, kernel=linear \n",
      "[CV]  C=0.25, decision_function_shape=ovr, gamma=0.0001, kernel=linear, score=0.996, total=   2.4s\n",
      "[CV] C=0.25, decision_function_shape=ovr, gamma=0.0001, kernel=linear \n",
      "[CV]  C=0.25, decision_function_shape=ovr, gamma=0.0001, kernel=linear, score=0.986, total=   0.5s\n",
      "[CV] C=0.25, decision_function_shape=ovr, gamma=0.0001, kernel=linear \n",
      "[CV]  C=0.25, decision_function_shape=ovr, gamma=0.0001, kernel=linear, score=0.993, total=   3.1s\n",
      "[CV] C=0.25, decision_function_shape=ovr, gamma=0.0001, kernel=linear \n",
      "[CV]  C=0.25, decision_function_shape=ovr, gamma=0.0001, kernel=linear, score=0.989, total=   0.3s\n",
      "[CV] C=0.25, decision_function_shape=ovr, gamma=0.0001, kernel=linear \n",
      "[CV]  C=0.25, decision_function_shape=ovr, gamma=0.0001, kernel=linear, score=0.986, total=   2.3s\n",
      "[CV] C=0.25, decision_function_shape=ovr, gamma=0.0001, kernel=rbf ...\n",
      "[CV]  C=0.25, decision_function_shape=ovr, gamma=0.0001, kernel=rbf, score=0.514, total=   0.1s\n",
      "[CV] C=0.25, decision_function_shape=ovr, gamma=0.0001, kernel=rbf ...\n",
      "[CV]  C=0.25, decision_function_shape=ovr, gamma=0.0001, kernel=rbf, score=0.511, total=   0.1s\n",
      "[CV] C=0.25, decision_function_shape=ovr, gamma=0.0001, kernel=rbf ...\n",
      "[CV]  C=0.25, decision_function_shape=ovr, gamma=0.0001, kernel=rbf, score=0.511, total=   0.1s\n",
      "[CV] C=0.25, decision_function_shape=ovr, gamma=0.0001, kernel=rbf ...\n",
      "[CV]  C=0.25, decision_function_shape=ovr, gamma=0.0001, kernel=rbf, score=0.511, total=   0.1s\n",
      "[CV] C=0.25, decision_function_shape=ovr, gamma=0.0001, kernel=rbf ...\n",
      "[CV]  C=0.25, decision_function_shape=ovr, gamma=0.0001, kernel=rbf, score=0.511, total=   0.1s\n",
      "[CV] C=0.25, decision_function_shape=ovr, gamma=1, kernel=linear .....\n",
      "[CV]  C=0.25, decision_function_shape=ovr, gamma=1, kernel=linear, score=0.996, total=   2.2s\n",
      "[CV] C=0.25, decision_function_shape=ovr, gamma=1, kernel=linear .....\n",
      "[CV]  C=0.25, decision_function_shape=ovr, gamma=1, kernel=linear, score=0.986, total=   0.4s\n",
      "[CV] C=0.25, decision_function_shape=ovr, gamma=1, kernel=linear .....\n",
      "[CV]  C=0.25, decision_function_shape=ovr, gamma=1, kernel=linear, score=0.993, total=   2.9s\n",
      "[CV] C=0.25, decision_function_shape=ovr, gamma=1, kernel=linear .....\n",
      "[CV]  C=0.25, decision_function_shape=ovr, gamma=1, kernel=linear, score=0.989, total=   0.4s\n",
      "[CV] C=0.25, decision_function_shape=ovr, gamma=1, kernel=linear .....\n",
      "[CV]  C=0.25, decision_function_shape=ovr, gamma=1, kernel=linear, score=0.986, total=   2.1s\n",
      "[CV] C=0.25, decision_function_shape=ovr, gamma=1, kernel=rbf ........\n",
      "[CV]  C=0.25, decision_function_shape=ovr, gamma=1, kernel=rbf, score=0.514, total=   0.2s\n",
      "[CV] C=0.25, decision_function_shape=ovr, gamma=1, kernel=rbf ........\n",
      "[CV]  C=0.25, decision_function_shape=ovr, gamma=1, kernel=rbf, score=0.511, total=   0.2s\n",
      "[CV] C=0.25, decision_function_shape=ovr, gamma=1, kernel=rbf ........\n",
      "[CV]  C=0.25, decision_function_shape=ovr, gamma=1, kernel=rbf, score=0.511, total=   0.2s\n",
      "[CV] C=0.25, decision_function_shape=ovr, gamma=1, kernel=rbf ........\n",
      "[CV]  C=0.25, decision_function_shape=ovr, gamma=1, kernel=rbf, score=0.511, total=   0.2s\n",
      "[CV] C=0.25, decision_function_shape=ovr, gamma=1, kernel=rbf ........\n",
      "[CV]  C=0.25, decision_function_shape=ovr, gamma=1, kernel=rbf, score=0.511, total=   0.2s\n",
      "[CV] C=0.5, decision_function_shape=ovo, gamma=auto, kernel=linear ...\n",
      "[CV]  C=0.5, decision_function_shape=ovo, gamma=auto, kernel=linear, score=0.996, total=   1.5s\n",
      "[CV] C=0.5, decision_function_shape=ovo, gamma=auto, kernel=linear ...\n",
      "[CV]  C=0.5, decision_function_shape=ovo, gamma=auto, kernel=linear, score=0.989, total=   0.6s\n",
      "[CV] C=0.5, decision_function_shape=ovo, gamma=auto, kernel=linear ...\n",
      "[CV]  C=0.5, decision_function_shape=ovo, gamma=auto, kernel=linear, score=0.986, total=   2.8s\n",
      "[CV] C=0.5, decision_function_shape=ovo, gamma=auto, kernel=linear ...\n",
      "[CV]  C=0.5, decision_function_shape=ovo, gamma=auto, kernel=linear, score=0.989, total=   0.5s\n",
      "[CV] C=0.5, decision_function_shape=ovo, gamma=auto, kernel=linear ...\n"
     ]
    },
    {
     "name": "stdout",
     "output_type": "stream",
     "text": [
      "[CV]  C=0.5, decision_function_shape=ovo, gamma=auto, kernel=linear, score=0.986, total=   3.2s\n",
      "[CV] C=0.5, decision_function_shape=ovo, gamma=auto, kernel=rbf ......\n",
      "[CV]  C=0.5, decision_function_shape=ovo, gamma=auto, kernel=rbf, score=0.514, total=   0.2s\n",
      "[CV] C=0.5, decision_function_shape=ovo, gamma=auto, kernel=rbf ......\n",
      "[CV]  C=0.5, decision_function_shape=ovo, gamma=auto, kernel=rbf, score=0.511, total=   0.2s\n",
      "[CV] C=0.5, decision_function_shape=ovo, gamma=auto, kernel=rbf ......\n",
      "[CV]  C=0.5, decision_function_shape=ovo, gamma=auto, kernel=rbf, score=0.511, total=   0.2s\n",
      "[CV] C=0.5, decision_function_shape=ovo, gamma=auto, kernel=rbf ......\n",
      "[CV]  C=0.5, decision_function_shape=ovo, gamma=auto, kernel=rbf, score=0.511, total=   0.2s\n",
      "[CV] C=0.5, decision_function_shape=ovo, gamma=auto, kernel=rbf ......\n",
      "[CV]  C=0.5, decision_function_shape=ovo, gamma=auto, kernel=rbf, score=0.511, total=   0.2s\n",
      "[CV] C=0.5, decision_function_shape=ovo, gamma=0.01, kernel=linear ...\n",
      "[CV]  C=0.5, decision_function_shape=ovo, gamma=0.01, kernel=linear, score=0.996, total=   1.6s\n",
      "[CV] C=0.5, decision_function_shape=ovo, gamma=0.01, kernel=linear ...\n",
      "[CV]  C=0.5, decision_function_shape=ovo, gamma=0.01, kernel=linear, score=0.989, total=   0.6s\n",
      "[CV] C=0.5, decision_function_shape=ovo, gamma=0.01, kernel=linear ...\n",
      "[CV]  C=0.5, decision_function_shape=ovo, gamma=0.01, kernel=linear, score=0.986, total=   3.3s\n",
      "[CV] C=0.5, decision_function_shape=ovo, gamma=0.01, kernel=linear ...\n",
      "[CV]  C=0.5, decision_function_shape=ovo, gamma=0.01, kernel=linear, score=0.989, total=   0.6s\n",
      "[CV] C=0.5, decision_function_shape=ovo, gamma=0.01, kernel=linear ...\n",
      "[CV]  C=0.5, decision_function_shape=ovo, gamma=0.01, kernel=linear, score=0.986, total=   3.2s\n",
      "[CV] C=0.5, decision_function_shape=ovo, gamma=0.01, kernel=rbf ......\n",
      "[CV]  C=0.5, decision_function_shape=ovo, gamma=0.01, kernel=rbf, score=0.514, total=   0.2s\n",
      "[CV] C=0.5, decision_function_shape=ovo, gamma=0.01, kernel=rbf ......\n",
      "[CV]  C=0.5, decision_function_shape=ovo, gamma=0.01, kernel=rbf, score=0.511, total=   0.2s\n",
      "[CV] C=0.5, decision_function_shape=ovo, gamma=0.01, kernel=rbf ......\n",
      "[CV]  C=0.5, decision_function_shape=ovo, gamma=0.01, kernel=rbf, score=0.511, total=   0.2s\n",
      "[CV] C=0.5, decision_function_shape=ovo, gamma=0.01, kernel=rbf ......\n",
      "[CV]  C=0.5, decision_function_shape=ovo, gamma=0.01, kernel=rbf, score=0.511, total=   0.2s\n",
      "[CV] C=0.5, decision_function_shape=ovo, gamma=0.01, kernel=rbf ......\n",
      "[CV]  C=0.5, decision_function_shape=ovo, gamma=0.01, kernel=rbf, score=0.511, total=   0.2s\n",
      "[CV] C=0.5, decision_function_shape=ovo, gamma=0.001, kernel=linear ..\n",
      "[CV]  C=0.5, decision_function_shape=ovo, gamma=0.001, kernel=linear, score=0.996, total=   1.5s\n",
      "[CV] C=0.5, decision_function_shape=ovo, gamma=0.001, kernel=linear ..\n",
      "[CV]  C=0.5, decision_function_shape=ovo, gamma=0.001, kernel=linear, score=0.989, total=   0.6s\n",
      "[CV] C=0.5, decision_function_shape=ovo, gamma=0.001, kernel=linear ..\n",
      "[CV]  C=0.5, decision_function_shape=ovo, gamma=0.001, kernel=linear, score=0.986, total=   2.8s\n",
      "[CV] C=0.5, decision_function_shape=ovo, gamma=0.001, kernel=linear ..\n",
      "[CV]  C=0.5, decision_function_shape=ovo, gamma=0.001, kernel=linear, score=0.989, total=   0.5s\n",
      "[CV] C=0.5, decision_function_shape=ovo, gamma=0.001, kernel=linear ..\n",
      "[CV]  C=0.5, decision_function_shape=ovo, gamma=0.001, kernel=linear, score=0.986, total=   3.4s\n",
      "[CV] C=0.5, decision_function_shape=ovo, gamma=0.001, kernel=rbf .....\n",
      "[CV]  C=0.5, decision_function_shape=ovo, gamma=0.001, kernel=rbf, score=0.514, total=   0.3s\n",
      "[CV] C=0.5, decision_function_shape=ovo, gamma=0.001, kernel=rbf .....\n",
      "[CV]  C=0.5, decision_function_shape=ovo, gamma=0.001, kernel=rbf, score=0.511, total=   0.3s\n",
      "[CV] C=0.5, decision_function_shape=ovo, gamma=0.001, kernel=rbf .....\n",
      "[CV]  C=0.5, decision_function_shape=ovo, gamma=0.001, kernel=rbf, score=0.511, total=   0.2s\n",
      "[CV] C=0.5, decision_function_shape=ovo, gamma=0.001, kernel=rbf .....\n",
      "[CV]  C=0.5, decision_function_shape=ovo, gamma=0.001, kernel=rbf, score=0.511, total=   0.2s\n",
      "[CV] C=0.5, decision_function_shape=ovo, gamma=0.001, kernel=rbf .....\n",
      "[CV]  C=0.5, decision_function_shape=ovo, gamma=0.001, kernel=rbf, score=0.511, total=   0.2s\n",
      "[CV] C=0.5, decision_function_shape=ovo, gamma=0.0001, kernel=linear .\n",
      "[CV]  C=0.5, decision_function_shape=ovo, gamma=0.0001, kernel=linear, score=0.996, total=   1.5s\n",
      "[CV] C=0.5, decision_function_shape=ovo, gamma=0.0001, kernel=linear .\n",
      "[CV]  C=0.5, decision_function_shape=ovo, gamma=0.0001, kernel=linear, score=0.989, total=   0.6s\n",
      "[CV] C=0.5, decision_function_shape=ovo, gamma=0.0001, kernel=linear .\n",
      "[CV]  C=0.5, decision_function_shape=ovo, gamma=0.0001, kernel=linear, score=0.986, total=   2.8s\n",
      "[CV] C=0.5, decision_function_shape=ovo, gamma=0.0001, kernel=linear .\n",
      "[CV]  C=0.5, decision_function_shape=ovo, gamma=0.0001, kernel=linear, score=0.989, total=   0.5s\n",
      "[CV] C=0.5, decision_function_shape=ovo, gamma=0.0001, kernel=linear .\n",
      "[CV]  C=0.5, decision_function_shape=ovo, gamma=0.0001, kernel=linear, score=0.986, total=   3.2s\n",
      "[CV] C=0.5, decision_function_shape=ovo, gamma=0.0001, kernel=rbf ....\n",
      "[CV]  C=0.5, decision_function_shape=ovo, gamma=0.0001, kernel=rbf, score=0.514, total=   0.1s\n",
      "[CV] C=0.5, decision_function_shape=ovo, gamma=0.0001, kernel=rbf ....\n",
      "[CV]  C=0.5, decision_function_shape=ovo, gamma=0.0001, kernel=rbf, score=0.514, total=   0.1s\n",
      "[CV] C=0.5, decision_function_shape=ovo, gamma=0.0001, kernel=rbf ....\n",
      "[CV]  C=0.5, decision_function_shape=ovo, gamma=0.0001, kernel=rbf, score=0.511, total=   0.1s\n",
      "[CV] C=0.5, decision_function_shape=ovo, gamma=0.0001, kernel=rbf ....\n",
      "[CV]  C=0.5, decision_function_shape=ovo, gamma=0.0001, kernel=rbf, score=0.511, total=   0.1s\n",
      "[CV] C=0.5, decision_function_shape=ovo, gamma=0.0001, kernel=rbf ....\n",
      "[CV]  C=0.5, decision_function_shape=ovo, gamma=0.0001, kernel=rbf, score=0.511, total=   0.1s\n",
      "[CV] C=0.5, decision_function_shape=ovo, gamma=1, kernel=linear ......\n",
      "[CV]  C=0.5, decision_function_shape=ovo, gamma=1, kernel=linear, score=0.996, total=   1.5s\n",
      "[CV] C=0.5, decision_function_shape=ovo, gamma=1, kernel=linear ......\n",
      "[CV]  C=0.5, decision_function_shape=ovo, gamma=1, kernel=linear, score=0.989, total=   0.6s\n",
      "[CV] C=0.5, decision_function_shape=ovo, gamma=1, kernel=linear ......\n",
      "[CV]  C=0.5, decision_function_shape=ovo, gamma=1, kernel=linear, score=0.986, total=   2.9s\n",
      "[CV] C=0.5, decision_function_shape=ovo, gamma=1, kernel=linear ......\n",
      "[CV]  C=0.5, decision_function_shape=ovo, gamma=1, kernel=linear, score=0.989, total=   0.7s\n",
      "[CV] C=0.5, decision_function_shape=ovo, gamma=1, kernel=linear ......\n",
      "[CV]  C=0.5, decision_function_shape=ovo, gamma=1, kernel=linear, score=0.986, total=   3.2s\n",
      "[CV] C=0.5, decision_function_shape=ovo, gamma=1, kernel=rbf .........\n",
      "[CV]  C=0.5, decision_function_shape=ovo, gamma=1, kernel=rbf, score=0.514, total=   0.2s\n",
      "[CV] C=0.5, decision_function_shape=ovo, gamma=1, kernel=rbf .........\n",
      "[CV]  C=0.5, decision_function_shape=ovo, gamma=1, kernel=rbf, score=0.511, total=   0.2s\n",
      "[CV] C=0.5, decision_function_shape=ovo, gamma=1, kernel=rbf .........\n",
      "[CV]  C=0.5, decision_function_shape=ovo, gamma=1, kernel=rbf, score=0.511, total=   0.2s\n",
      "[CV] C=0.5, decision_function_shape=ovo, gamma=1, kernel=rbf .........\n",
      "[CV]  C=0.5, decision_function_shape=ovo, gamma=1, kernel=rbf, score=0.511, total=   0.2s\n",
      "[CV] C=0.5, decision_function_shape=ovo, gamma=1, kernel=rbf .........\n",
      "[CV]  C=0.5, decision_function_shape=ovo, gamma=1, kernel=rbf, score=0.511, total=   0.2s\n",
      "[CV] C=0.5, decision_function_shape=ovr, gamma=auto, kernel=linear ...\n",
      "[CV]  C=0.5, decision_function_shape=ovr, gamma=auto, kernel=linear, score=0.996, total=   1.5s\n",
      "[CV] C=0.5, decision_function_shape=ovr, gamma=auto, kernel=linear ...\n",
      "[CV]  C=0.5, decision_function_shape=ovr, gamma=auto, kernel=linear, score=0.989, total=   0.6s\n",
      "[CV] C=0.5, decision_function_shape=ovr, gamma=auto, kernel=linear ...\n",
      "[CV]  C=0.5, decision_function_shape=ovr, gamma=auto, kernel=linear, score=0.986, total=   2.9s\n",
      "[CV] C=0.5, decision_function_shape=ovr, gamma=auto, kernel=linear ...\n",
      "[CV]  C=0.5, decision_function_shape=ovr, gamma=auto, kernel=linear, score=0.989, total=   0.7s\n",
      "[CV] C=0.5, decision_function_shape=ovr, gamma=auto, kernel=linear ...\n"
     ]
    },
    {
     "name": "stdout",
     "output_type": "stream",
     "text": [
      "[CV]  C=0.5, decision_function_shape=ovr, gamma=auto, kernel=linear, score=0.986, total=   3.6s\n",
      "[CV] C=0.5, decision_function_shape=ovr, gamma=auto, kernel=rbf ......\n",
      "[CV]  C=0.5, decision_function_shape=ovr, gamma=auto, kernel=rbf, score=0.514, total=   0.3s\n",
      "[CV] C=0.5, decision_function_shape=ovr, gamma=auto, kernel=rbf ......\n",
      "[CV]  C=0.5, decision_function_shape=ovr, gamma=auto, kernel=rbf, score=0.511, total=   0.3s\n",
      "[CV] C=0.5, decision_function_shape=ovr, gamma=auto, kernel=rbf ......\n",
      "[CV]  C=0.5, decision_function_shape=ovr, gamma=auto, kernel=rbf, score=0.511, total=   0.3s\n",
      "[CV] C=0.5, decision_function_shape=ovr, gamma=auto, kernel=rbf ......\n",
      "[CV]  C=0.5, decision_function_shape=ovr, gamma=auto, kernel=rbf, score=0.511, total=   0.3s\n",
      "[CV] C=0.5, decision_function_shape=ovr, gamma=auto, kernel=rbf ......\n",
      "[CV]  C=0.5, decision_function_shape=ovr, gamma=auto, kernel=rbf, score=0.511, total=   0.3s\n",
      "[CV] C=0.5, decision_function_shape=ovr, gamma=0.01, kernel=linear ...\n",
      "[CV]  C=0.5, decision_function_shape=ovr, gamma=0.01, kernel=linear, score=0.996, total=   2.2s\n",
      "[CV] C=0.5, decision_function_shape=ovr, gamma=0.01, kernel=linear ...\n",
      "[CV]  C=0.5, decision_function_shape=ovr, gamma=0.01, kernel=linear, score=0.989, total=   0.7s\n",
      "[CV] C=0.5, decision_function_shape=ovr, gamma=0.01, kernel=linear ...\n",
      "[CV]  C=0.5, decision_function_shape=ovr, gamma=0.01, kernel=linear, score=0.986, total=   3.3s\n",
      "[CV] C=0.5, decision_function_shape=ovr, gamma=0.01, kernel=linear ...\n",
      "[CV]  C=0.5, decision_function_shape=ovr, gamma=0.01, kernel=linear, score=0.989, total=   0.7s\n",
      "[CV] C=0.5, decision_function_shape=ovr, gamma=0.01, kernel=linear ...\n",
      "[CV]  C=0.5, decision_function_shape=ovr, gamma=0.01, kernel=linear, score=0.986, total=   3.8s\n",
      "[CV] C=0.5, decision_function_shape=ovr, gamma=0.01, kernel=rbf ......\n",
      "[CV]  C=0.5, decision_function_shape=ovr, gamma=0.01, kernel=rbf, score=0.514, total=   0.3s\n",
      "[CV] C=0.5, decision_function_shape=ovr, gamma=0.01, kernel=rbf ......\n",
      "[CV]  C=0.5, decision_function_shape=ovr, gamma=0.01, kernel=rbf, score=0.511, total=   0.3s\n",
      "[CV] C=0.5, decision_function_shape=ovr, gamma=0.01, kernel=rbf ......\n",
      "[CV]  C=0.5, decision_function_shape=ovr, gamma=0.01, kernel=rbf, score=0.511, total=   0.3s\n",
      "[CV] C=0.5, decision_function_shape=ovr, gamma=0.01, kernel=rbf ......\n",
      "[CV]  C=0.5, decision_function_shape=ovr, gamma=0.01, kernel=rbf, score=0.511, total=   0.3s\n",
      "[CV] C=0.5, decision_function_shape=ovr, gamma=0.01, kernel=rbf ......\n",
      "[CV]  C=0.5, decision_function_shape=ovr, gamma=0.01, kernel=rbf, score=0.511, total=   0.3s\n",
      "[CV] C=0.5, decision_function_shape=ovr, gamma=0.001, kernel=linear ..\n",
      "[CV]  C=0.5, decision_function_shape=ovr, gamma=0.001, kernel=linear, score=0.996, total=   1.7s\n",
      "[CV] C=0.5, decision_function_shape=ovr, gamma=0.001, kernel=linear ..\n",
      "[CV]  C=0.5, decision_function_shape=ovr, gamma=0.001, kernel=linear, score=0.989, total=   0.6s\n",
      "[CV] C=0.5, decision_function_shape=ovr, gamma=0.001, kernel=linear ..\n",
      "[CV]  C=0.5, decision_function_shape=ovr, gamma=0.001, kernel=linear, score=0.986, total=   3.6s\n",
      "[CV] C=0.5, decision_function_shape=ovr, gamma=0.001, kernel=linear ..\n",
      "[CV]  C=0.5, decision_function_shape=ovr, gamma=0.001, kernel=linear, score=0.989, total=   0.8s\n",
      "[CV] C=0.5, decision_function_shape=ovr, gamma=0.001, kernel=linear ..\n",
      "[CV]  C=0.5, decision_function_shape=ovr, gamma=0.001, kernel=linear, score=0.986, total=   3.9s\n",
      "[CV] C=0.5, decision_function_shape=ovr, gamma=0.001, kernel=rbf .....\n",
      "[CV]  C=0.5, decision_function_shape=ovr, gamma=0.001, kernel=rbf, score=0.514, total=   0.3s\n",
      "[CV] C=0.5, decision_function_shape=ovr, gamma=0.001, kernel=rbf .....\n",
      "[CV]  C=0.5, decision_function_shape=ovr, gamma=0.001, kernel=rbf, score=0.511, total=   0.3s\n",
      "[CV] C=0.5, decision_function_shape=ovr, gamma=0.001, kernel=rbf .....\n",
      "[CV]  C=0.5, decision_function_shape=ovr, gamma=0.001, kernel=rbf, score=0.511, total=   0.3s\n",
      "[CV] C=0.5, decision_function_shape=ovr, gamma=0.001, kernel=rbf .....\n",
      "[CV]  C=0.5, decision_function_shape=ovr, gamma=0.001, kernel=rbf, score=0.511, total=   0.3s\n",
      "[CV] C=0.5, decision_function_shape=ovr, gamma=0.001, kernel=rbf .....\n",
      "[CV]  C=0.5, decision_function_shape=ovr, gamma=0.001, kernel=rbf, score=0.511, total=   0.2s\n",
      "[CV] C=0.5, decision_function_shape=ovr, gamma=0.0001, kernel=linear .\n",
      "[CV]  C=0.5, decision_function_shape=ovr, gamma=0.0001, kernel=linear, score=0.996, total=   1.6s\n",
      "[CV] C=0.5, decision_function_shape=ovr, gamma=0.0001, kernel=linear .\n",
      "[CV]  C=0.5, decision_function_shape=ovr, gamma=0.0001, kernel=linear, score=0.989, total=   0.7s\n",
      "[CV] C=0.5, decision_function_shape=ovr, gamma=0.0001, kernel=linear .\n",
      "[CV]  C=0.5, decision_function_shape=ovr, gamma=0.0001, kernel=linear, score=0.986, total=   3.4s\n",
      "[CV] C=0.5, decision_function_shape=ovr, gamma=0.0001, kernel=linear .\n",
      "[CV]  C=0.5, decision_function_shape=ovr, gamma=0.0001, kernel=linear, score=0.989, total=   0.6s\n",
      "[CV] C=0.5, decision_function_shape=ovr, gamma=0.0001, kernel=linear .\n",
      "[CV]  C=0.5, decision_function_shape=ovr, gamma=0.0001, kernel=linear, score=0.986, total=   4.1s\n",
      "[CV] C=0.5, decision_function_shape=ovr, gamma=0.0001, kernel=rbf ....\n",
      "[CV]  C=0.5, decision_function_shape=ovr, gamma=0.0001, kernel=rbf, score=0.514, total=   0.2s\n",
      "[CV] C=0.5, decision_function_shape=ovr, gamma=0.0001, kernel=rbf ....\n",
      "[CV]  C=0.5, decision_function_shape=ovr, gamma=0.0001, kernel=rbf, score=0.514, total=   0.2s\n",
      "[CV] C=0.5, decision_function_shape=ovr, gamma=0.0001, kernel=rbf ....\n",
      "[CV]  C=0.5, decision_function_shape=ovr, gamma=0.0001, kernel=rbf, score=0.511, total=   0.1s\n",
      "[CV] C=0.5, decision_function_shape=ovr, gamma=0.0001, kernel=rbf ....\n",
      "[CV]  C=0.5, decision_function_shape=ovr, gamma=0.0001, kernel=rbf, score=0.511, total=   0.2s\n",
      "[CV] C=0.5, decision_function_shape=ovr, gamma=0.0001, kernel=rbf ....\n",
      "[CV]  C=0.5, decision_function_shape=ovr, gamma=0.0001, kernel=rbf, score=0.511, total=   0.2s\n",
      "[CV] C=0.5, decision_function_shape=ovr, gamma=1, kernel=linear ......\n",
      "[CV]  C=0.5, decision_function_shape=ovr, gamma=1, kernel=linear, score=0.996, total=   1.8s\n",
      "[CV] C=0.5, decision_function_shape=ovr, gamma=1, kernel=linear ......\n",
      "[CV]  C=0.5, decision_function_shape=ovr, gamma=1, kernel=linear, score=0.989, total=   0.8s\n",
      "[CV] C=0.5, decision_function_shape=ovr, gamma=1, kernel=linear ......\n",
      "[CV]  C=0.5, decision_function_shape=ovr, gamma=1, kernel=linear, score=0.986, total=   3.2s\n",
      "[CV] C=0.5, decision_function_shape=ovr, gamma=1, kernel=linear ......\n",
      "[CV]  C=0.5, decision_function_shape=ovr, gamma=1, kernel=linear, score=0.989, total=   0.6s\n",
      "[CV] C=0.5, decision_function_shape=ovr, gamma=1, kernel=linear ......\n",
      "[CV]  C=0.5, decision_function_shape=ovr, gamma=1, kernel=linear, score=0.986, total=   3.6s\n",
      "[CV] C=0.5, decision_function_shape=ovr, gamma=1, kernel=rbf .........\n",
      "[CV]  C=0.5, decision_function_shape=ovr, gamma=1, kernel=rbf, score=0.514, total=   0.3s\n",
      "[CV] C=0.5, decision_function_shape=ovr, gamma=1, kernel=rbf .........\n",
      "[CV]  C=0.5, decision_function_shape=ovr, gamma=1, kernel=rbf, score=0.511, total=   0.3s\n",
      "[CV] C=0.5, decision_function_shape=ovr, gamma=1, kernel=rbf .........\n",
      "[CV]  C=0.5, decision_function_shape=ovr, gamma=1, kernel=rbf, score=0.511, total=   0.3s\n",
      "[CV] C=0.5, decision_function_shape=ovr, gamma=1, kernel=rbf .........\n",
      "[CV]  C=0.5, decision_function_shape=ovr, gamma=1, kernel=rbf, score=0.511, total=   0.3s\n",
      "[CV] C=0.5, decision_function_shape=ovr, gamma=1, kernel=rbf .........\n",
      "[CV]  C=0.5, decision_function_shape=ovr, gamma=1, kernel=rbf, score=0.511, total=   0.3s\n",
      "[CV] C=0.75, decision_function_shape=ovo, gamma=auto, kernel=linear ..\n",
      "[CV]  C=0.75, decision_function_shape=ovo, gamma=auto, kernel=linear, score=0.993, total=   9.3s\n",
      "[CV] C=0.75, decision_function_shape=ovo, gamma=auto, kernel=linear ..\n",
      "[CV]  C=0.75, decision_function_shape=ovo, gamma=auto, kernel=linear, score=0.989, total=   1.3s\n",
      "[CV] C=0.75, decision_function_shape=ovo, gamma=auto, kernel=linear ..\n",
      "[CV]  C=0.75, decision_function_shape=ovo, gamma=auto, kernel=linear, score=0.989, total=   3.4s\n",
      "[CV] C=0.75, decision_function_shape=ovo, gamma=auto, kernel=linear ..\n",
      "[CV]  C=0.75, decision_function_shape=ovo, gamma=auto, kernel=linear, score=0.989, total=   1.0s\n",
      "[CV] C=0.75, decision_function_shape=ovo, gamma=auto, kernel=linear ..\n"
     ]
    },
    {
     "name": "stdout",
     "output_type": "stream",
     "text": [
      "[CV]  C=0.75, decision_function_shape=ovo, gamma=auto, kernel=linear, score=0.986, total=   4.2s\n",
      "[CV] C=0.75, decision_function_shape=ovo, gamma=auto, kernel=rbf .....\n",
      "[CV]  C=0.75, decision_function_shape=ovo, gamma=auto, kernel=rbf, score=0.514, total=   0.2s\n",
      "[CV] C=0.75, decision_function_shape=ovo, gamma=auto, kernel=rbf .....\n",
      "[CV]  C=0.75, decision_function_shape=ovo, gamma=auto, kernel=rbf, score=0.511, total=   0.2s\n",
      "[CV] C=0.75, decision_function_shape=ovo, gamma=auto, kernel=rbf .....\n",
      "[CV]  C=0.75, decision_function_shape=ovo, gamma=auto, kernel=rbf, score=0.511, total=   0.2s\n",
      "[CV] C=0.75, decision_function_shape=ovo, gamma=auto, kernel=rbf .....\n",
      "[CV]  C=0.75, decision_function_shape=ovo, gamma=auto, kernel=rbf, score=0.511, total=   0.2s\n",
      "[CV] C=0.75, decision_function_shape=ovo, gamma=auto, kernel=rbf .....\n",
      "[CV]  C=0.75, decision_function_shape=ovo, gamma=auto, kernel=rbf, score=0.511, total=   0.2s\n",
      "[CV] C=0.75, decision_function_shape=ovo, gamma=0.01, kernel=linear ..\n",
      "[CV]  C=0.75, decision_function_shape=ovo, gamma=0.01, kernel=linear, score=0.993, total=   8.6s\n",
      "[CV] C=0.75, decision_function_shape=ovo, gamma=0.01, kernel=linear ..\n",
      "[CV]  C=0.75, decision_function_shape=ovo, gamma=0.01, kernel=linear, score=0.989, total=   2.1s\n",
      "[CV] C=0.75, decision_function_shape=ovo, gamma=0.01, kernel=linear ..\n",
      "[CV]  C=0.75, decision_function_shape=ovo, gamma=0.01, kernel=linear, score=0.989, total=   3.9s\n",
      "[CV] C=0.75, decision_function_shape=ovo, gamma=0.01, kernel=linear ..\n",
      "[CV]  C=0.75, decision_function_shape=ovo, gamma=0.01, kernel=linear, score=0.989, total=   1.0s\n",
      "[CV] C=0.75, decision_function_shape=ovo, gamma=0.01, kernel=linear ..\n",
      "[CV]  C=0.75, decision_function_shape=ovo, gamma=0.01, kernel=linear, score=0.986, total=   4.2s\n",
      "[CV] C=0.75, decision_function_shape=ovo, gamma=0.01, kernel=rbf .....\n",
      "[CV]  C=0.75, decision_function_shape=ovo, gamma=0.01, kernel=rbf, score=0.514, total=   0.2s\n",
      "[CV] C=0.75, decision_function_shape=ovo, gamma=0.01, kernel=rbf .....\n",
      "[CV]  C=0.75, decision_function_shape=ovo, gamma=0.01, kernel=rbf, score=0.511, total=   0.2s\n",
      "[CV] C=0.75, decision_function_shape=ovo, gamma=0.01, kernel=rbf .....\n",
      "[CV]  C=0.75, decision_function_shape=ovo, gamma=0.01, kernel=rbf, score=0.511, total=   0.2s\n",
      "[CV] C=0.75, decision_function_shape=ovo, gamma=0.01, kernel=rbf .....\n",
      "[CV]  C=0.75, decision_function_shape=ovo, gamma=0.01, kernel=rbf, score=0.511, total=   0.2s\n",
      "[CV] C=0.75, decision_function_shape=ovo, gamma=0.01, kernel=rbf .....\n",
      "[CV]  C=0.75, decision_function_shape=ovo, gamma=0.01, kernel=rbf, score=0.511, total=   0.2s\n",
      "[CV] C=0.75, decision_function_shape=ovo, gamma=0.001, kernel=linear .\n",
      "[CV]  C=0.75, decision_function_shape=ovo, gamma=0.001, kernel=linear, score=0.993, total=   8.3s\n",
      "[CV] C=0.75, decision_function_shape=ovo, gamma=0.001, kernel=linear .\n",
      "[CV]  C=0.75, decision_function_shape=ovo, gamma=0.001, kernel=linear, score=0.989, total=   1.5s\n",
      "[CV] C=0.75, decision_function_shape=ovo, gamma=0.001, kernel=linear .\n",
      "[CV]  C=0.75, decision_function_shape=ovo, gamma=0.001, kernel=linear, score=0.989, total=   3.2s\n",
      "[CV] C=0.75, decision_function_shape=ovo, gamma=0.001, kernel=linear .\n",
      "[CV]  C=0.75, decision_function_shape=ovo, gamma=0.001, kernel=linear, score=0.989, total=   1.0s\n",
      "[CV] C=0.75, decision_function_shape=ovo, gamma=0.001, kernel=linear .\n",
      "[CV]  C=0.75, decision_function_shape=ovo, gamma=0.001, kernel=linear, score=0.986, total=   4.0s\n",
      "[CV] C=0.75, decision_function_shape=ovo, gamma=0.001, kernel=rbf ....\n",
      "[CV]  C=0.75, decision_function_shape=ovo, gamma=0.001, kernel=rbf, score=0.514, total=   0.2s\n",
      "[CV] C=0.75, decision_function_shape=ovo, gamma=0.001, kernel=rbf ....\n",
      "[CV]  C=0.75, decision_function_shape=ovo, gamma=0.001, kernel=rbf, score=0.511, total=   0.2s\n",
      "[CV] C=0.75, decision_function_shape=ovo, gamma=0.001, kernel=rbf ....\n",
      "[CV]  C=0.75, decision_function_shape=ovo, gamma=0.001, kernel=rbf, score=0.511, total=   0.2s\n",
      "[CV] C=0.75, decision_function_shape=ovo, gamma=0.001, kernel=rbf ....\n",
      "[CV]  C=0.75, decision_function_shape=ovo, gamma=0.001, kernel=rbf, score=0.511, total=   0.2s\n",
      "[CV] C=0.75, decision_function_shape=ovo, gamma=0.001, kernel=rbf ....\n",
      "[CV]  C=0.75, decision_function_shape=ovo, gamma=0.001, kernel=rbf, score=0.511, total=   0.2s\n",
      "[CV] C=0.75, decision_function_shape=ovo, gamma=0.0001, kernel=linear \n",
      "[CV]  C=0.75, decision_function_shape=ovo, gamma=0.0001, kernel=linear, score=0.993, total=   8.6s\n",
      "[CV] C=0.75, decision_function_shape=ovo, gamma=0.0001, kernel=linear \n",
      "[CV]  C=0.75, decision_function_shape=ovo, gamma=0.0001, kernel=linear, score=0.989, total=   1.5s\n",
      "[CV] C=0.75, decision_function_shape=ovo, gamma=0.0001, kernel=linear \n",
      "[CV]  C=0.75, decision_function_shape=ovo, gamma=0.0001, kernel=linear, score=0.989, total=   3.7s\n",
      "[CV] C=0.75, decision_function_shape=ovo, gamma=0.0001, kernel=linear \n",
      "[CV]  C=0.75, decision_function_shape=ovo, gamma=0.0001, kernel=linear, score=0.989, total=   1.1s\n",
      "[CV] C=0.75, decision_function_shape=ovo, gamma=0.0001, kernel=linear \n",
      "[CV]  C=0.75, decision_function_shape=ovo, gamma=0.0001, kernel=linear, score=0.986, total=   4.7s\n",
      "[CV] C=0.75, decision_function_shape=ovo, gamma=0.0001, kernel=rbf ...\n",
      "[CV]  C=0.75, decision_function_shape=ovo, gamma=0.0001, kernel=rbf, score=0.557, total=   0.1s\n",
      "[CV] C=0.75, decision_function_shape=ovo, gamma=0.0001, kernel=rbf ...\n",
      "[CV]  C=0.75, decision_function_shape=ovo, gamma=0.0001, kernel=rbf, score=0.532, total=   0.1s\n",
      "[CV] C=0.75, decision_function_shape=ovo, gamma=0.0001, kernel=rbf ...\n",
      "[CV]  C=0.75, decision_function_shape=ovo, gamma=0.0001, kernel=rbf, score=0.536, total=   0.1s\n",
      "[CV] C=0.75, decision_function_shape=ovo, gamma=0.0001, kernel=rbf ...\n",
      "[CV]  C=0.75, decision_function_shape=ovo, gamma=0.0001, kernel=rbf, score=0.536, total=   0.1s\n",
      "[CV] C=0.75, decision_function_shape=ovo, gamma=0.0001, kernel=rbf ...\n",
      "[CV]  C=0.75, decision_function_shape=ovo, gamma=0.0001, kernel=rbf, score=0.536, total=   0.1s\n",
      "[CV] C=0.75, decision_function_shape=ovo, gamma=1, kernel=linear .....\n",
      "[CV]  C=0.75, decision_function_shape=ovo, gamma=1, kernel=linear, score=0.993, total=   9.7s\n",
      "[CV] C=0.75, decision_function_shape=ovo, gamma=1, kernel=linear .....\n",
      "[CV]  C=0.75, decision_function_shape=ovo, gamma=1, kernel=linear, score=0.989, total=   1.4s\n",
      "[CV] C=0.75, decision_function_shape=ovo, gamma=1, kernel=linear .....\n",
      "[CV]  C=0.75, decision_function_shape=ovo, gamma=1, kernel=linear, score=0.989, total=   3.8s\n",
      "[CV] C=0.75, decision_function_shape=ovo, gamma=1, kernel=linear .....\n",
      "[CV]  C=0.75, decision_function_shape=ovo, gamma=1, kernel=linear, score=0.989, total=   1.0s\n",
      "[CV] C=0.75, decision_function_shape=ovo, gamma=1, kernel=linear .....\n",
      "[CV]  C=0.75, decision_function_shape=ovo, gamma=1, kernel=linear, score=0.986, total=   5.0s\n",
      "[CV] C=0.75, decision_function_shape=ovo, gamma=1, kernel=rbf ........\n",
      "[CV]  C=0.75, decision_function_shape=ovo, gamma=1, kernel=rbf, score=0.514, total=   0.2s\n",
      "[CV] C=0.75, decision_function_shape=ovo, gamma=1, kernel=rbf ........\n",
      "[CV]  C=0.75, decision_function_shape=ovo, gamma=1, kernel=rbf, score=0.511, total=   0.2s\n",
      "[CV] C=0.75, decision_function_shape=ovo, gamma=1, kernel=rbf ........\n",
      "[CV]  C=0.75, decision_function_shape=ovo, gamma=1, kernel=rbf, score=0.511, total=   0.2s\n",
      "[CV] C=0.75, decision_function_shape=ovo, gamma=1, kernel=rbf ........\n",
      "[CV]  C=0.75, decision_function_shape=ovo, gamma=1, kernel=rbf, score=0.511, total=   0.2s\n",
      "[CV] C=0.75, decision_function_shape=ovo, gamma=1, kernel=rbf ........\n",
      "[CV]  C=0.75, decision_function_shape=ovo, gamma=1, kernel=rbf, score=0.511, total=   0.2s\n",
      "[CV] C=0.75, decision_function_shape=ovr, gamma=auto, kernel=linear ..\n",
      "[CV]  C=0.75, decision_function_shape=ovr, gamma=auto, kernel=linear, score=0.993, total=   9.4s\n",
      "[CV] C=0.75, decision_function_shape=ovr, gamma=auto, kernel=linear ..\n",
      "[CV]  C=0.75, decision_function_shape=ovr, gamma=auto, kernel=linear, score=0.989, total=   1.7s\n",
      "[CV] C=0.75, decision_function_shape=ovr, gamma=auto, kernel=linear ..\n",
      "[CV]  C=0.75, decision_function_shape=ovr, gamma=auto, kernel=linear, score=0.989, total=   3.8s\n",
      "[CV] C=0.75, decision_function_shape=ovr, gamma=auto, kernel=linear ..\n",
      "[CV]  C=0.75, decision_function_shape=ovr, gamma=auto, kernel=linear, score=0.989, total=   1.1s\n",
      "[CV] C=0.75, decision_function_shape=ovr, gamma=auto, kernel=linear ..\n"
     ]
    },
    {
     "name": "stdout",
     "output_type": "stream",
     "text": [
      "[CV]  C=0.75, decision_function_shape=ovr, gamma=auto, kernel=linear, score=0.986, total=   4.2s\n",
      "[CV] C=0.75, decision_function_shape=ovr, gamma=auto, kernel=rbf .....\n",
      "[CV]  C=0.75, decision_function_shape=ovr, gamma=auto, kernel=rbf, score=0.514, total=   0.2s\n",
      "[CV] C=0.75, decision_function_shape=ovr, gamma=auto, kernel=rbf .....\n",
      "[CV]  C=0.75, decision_function_shape=ovr, gamma=auto, kernel=rbf, score=0.511, total=   0.2s\n",
      "[CV] C=0.75, decision_function_shape=ovr, gamma=auto, kernel=rbf .....\n",
      "[CV]  C=0.75, decision_function_shape=ovr, gamma=auto, kernel=rbf, score=0.511, total=   0.2s\n",
      "[CV] C=0.75, decision_function_shape=ovr, gamma=auto, kernel=rbf .....\n",
      "[CV]  C=0.75, decision_function_shape=ovr, gamma=auto, kernel=rbf, score=0.511, total=   0.2s\n",
      "[CV] C=0.75, decision_function_shape=ovr, gamma=auto, kernel=rbf .....\n",
      "[CV]  C=0.75, decision_function_shape=ovr, gamma=auto, kernel=rbf, score=0.511, total=   0.2s\n",
      "[CV] C=0.75, decision_function_shape=ovr, gamma=0.01, kernel=linear ..\n",
      "[CV]  C=0.75, decision_function_shape=ovr, gamma=0.01, kernel=linear, score=0.993, total=   8.7s\n",
      "[CV] C=0.75, decision_function_shape=ovr, gamma=0.01, kernel=linear ..\n",
      "[CV]  C=0.75, decision_function_shape=ovr, gamma=0.01, kernel=linear, score=0.989, total=   1.3s\n",
      "[CV] C=0.75, decision_function_shape=ovr, gamma=0.01, kernel=linear ..\n",
      "[CV]  C=0.75, decision_function_shape=ovr, gamma=0.01, kernel=linear, score=0.989, total=   3.3s\n",
      "[CV] C=0.75, decision_function_shape=ovr, gamma=0.01, kernel=linear ..\n",
      "[CV]  C=0.75, decision_function_shape=ovr, gamma=0.01, kernel=linear, score=0.989, total=   1.0s\n",
      "[CV] C=0.75, decision_function_shape=ovr, gamma=0.01, kernel=linear ..\n",
      "[CV]  C=0.75, decision_function_shape=ovr, gamma=0.01, kernel=linear, score=0.986, total=   4.1s\n",
      "[CV] C=0.75, decision_function_shape=ovr, gamma=0.01, kernel=rbf .....\n",
      "[CV]  C=0.75, decision_function_shape=ovr, gamma=0.01, kernel=rbf, score=0.514, total=   0.2s\n",
      "[CV] C=0.75, decision_function_shape=ovr, gamma=0.01, kernel=rbf .....\n",
      "[CV]  C=0.75, decision_function_shape=ovr, gamma=0.01, kernel=rbf, score=0.511, total=   0.2s\n",
      "[CV] C=0.75, decision_function_shape=ovr, gamma=0.01, kernel=rbf .....\n",
      "[CV]  C=0.75, decision_function_shape=ovr, gamma=0.01, kernel=rbf, score=0.511, total=   0.2s\n",
      "[CV] C=0.75, decision_function_shape=ovr, gamma=0.01, kernel=rbf .....\n",
      "[CV]  C=0.75, decision_function_shape=ovr, gamma=0.01, kernel=rbf, score=0.511, total=   0.2s\n",
      "[CV] C=0.75, decision_function_shape=ovr, gamma=0.01, kernel=rbf .....\n",
      "[CV]  C=0.75, decision_function_shape=ovr, gamma=0.01, kernel=rbf, score=0.511, total=   0.2s\n",
      "[CV] C=0.75, decision_function_shape=ovr, gamma=0.001, kernel=linear .\n",
      "[CV]  C=0.75, decision_function_shape=ovr, gamma=0.001, kernel=linear, score=0.993, total=   8.5s\n",
      "[CV] C=0.75, decision_function_shape=ovr, gamma=0.001, kernel=linear .\n",
      "[CV]  C=0.75, decision_function_shape=ovr, gamma=0.001, kernel=linear, score=0.989, total=   1.3s\n",
      "[CV] C=0.75, decision_function_shape=ovr, gamma=0.001, kernel=linear .\n",
      "[CV]  C=0.75, decision_function_shape=ovr, gamma=0.001, kernel=linear, score=0.989, total=   3.2s\n",
      "[CV] C=0.75, decision_function_shape=ovr, gamma=0.001, kernel=linear .\n",
      "[CV]  C=0.75, decision_function_shape=ovr, gamma=0.001, kernel=linear, score=0.989, total=   1.0s\n",
      "[CV] C=0.75, decision_function_shape=ovr, gamma=0.001, kernel=linear .\n",
      "[CV]  C=0.75, decision_function_shape=ovr, gamma=0.001, kernel=linear, score=0.986, total=   4.2s\n",
      "[CV] C=0.75, decision_function_shape=ovr, gamma=0.001, kernel=rbf ....\n",
      "[CV]  C=0.75, decision_function_shape=ovr, gamma=0.001, kernel=rbf, score=0.514, total=   0.3s\n",
      "[CV] C=0.75, decision_function_shape=ovr, gamma=0.001, kernel=rbf ....\n",
      "[CV]  C=0.75, decision_function_shape=ovr, gamma=0.001, kernel=rbf, score=0.511, total=   0.2s\n",
      "[CV] C=0.75, decision_function_shape=ovr, gamma=0.001, kernel=rbf ....\n",
      "[CV]  C=0.75, decision_function_shape=ovr, gamma=0.001, kernel=rbf, score=0.511, total=   0.2s\n",
      "[CV] C=0.75, decision_function_shape=ovr, gamma=0.001, kernel=rbf ....\n",
      "[CV]  C=0.75, decision_function_shape=ovr, gamma=0.001, kernel=rbf, score=0.511, total=   0.2s\n",
      "[CV] C=0.75, decision_function_shape=ovr, gamma=0.001, kernel=rbf ....\n",
      "[CV]  C=0.75, decision_function_shape=ovr, gamma=0.001, kernel=rbf, score=0.511, total=   0.2s\n",
      "[CV] C=0.75, decision_function_shape=ovr, gamma=0.0001, kernel=linear \n",
      "[CV]  C=0.75, decision_function_shape=ovr, gamma=0.0001, kernel=linear, score=0.993, total=   8.2s\n",
      "[CV] C=0.75, decision_function_shape=ovr, gamma=0.0001, kernel=linear \n",
      "[CV]  C=0.75, decision_function_shape=ovr, gamma=0.0001, kernel=linear, score=0.989, total=   1.3s\n",
      "[CV] C=0.75, decision_function_shape=ovr, gamma=0.0001, kernel=linear \n",
      "[CV]  C=0.75, decision_function_shape=ovr, gamma=0.0001, kernel=linear, score=0.989, total=   3.2s\n",
      "[CV] C=0.75, decision_function_shape=ovr, gamma=0.0001, kernel=linear \n",
      "[CV]  C=0.75, decision_function_shape=ovr, gamma=0.0001, kernel=linear, score=0.989, total=   1.0s\n",
      "[CV] C=0.75, decision_function_shape=ovr, gamma=0.0001, kernel=linear \n",
      "[CV]  C=0.75, decision_function_shape=ovr, gamma=0.0001, kernel=linear, score=0.986, total=   4.3s\n",
      "[CV] C=0.75, decision_function_shape=ovr, gamma=0.0001, kernel=rbf ...\n",
      "[CV]  C=0.75, decision_function_shape=ovr, gamma=0.0001, kernel=rbf, score=0.557, total=   0.1s\n",
      "[CV] C=0.75, decision_function_shape=ovr, gamma=0.0001, kernel=rbf ...\n",
      "[CV]  C=0.75, decision_function_shape=ovr, gamma=0.0001, kernel=rbf, score=0.532, total=   0.1s\n",
      "[CV] C=0.75, decision_function_shape=ovr, gamma=0.0001, kernel=rbf ...\n",
      "[CV]  C=0.75, decision_function_shape=ovr, gamma=0.0001, kernel=rbf, score=0.536, total=   0.1s\n",
      "[CV] C=0.75, decision_function_shape=ovr, gamma=0.0001, kernel=rbf ...\n",
      "[CV]  C=0.75, decision_function_shape=ovr, gamma=0.0001, kernel=rbf, score=0.536, total=   0.2s\n",
      "[CV] C=0.75, decision_function_shape=ovr, gamma=0.0001, kernel=rbf ...\n",
      "[CV]  C=0.75, decision_function_shape=ovr, gamma=0.0001, kernel=rbf, score=0.536, total=   0.1s\n",
      "[CV] C=0.75, decision_function_shape=ovr, gamma=1, kernel=linear .....\n",
      "[CV]  C=0.75, decision_function_shape=ovr, gamma=1, kernel=linear, score=0.993, total=   8.8s\n",
      "[CV] C=0.75, decision_function_shape=ovr, gamma=1, kernel=linear .....\n",
      "[CV]  C=0.75, decision_function_shape=ovr, gamma=1, kernel=linear, score=0.989, total=   1.6s\n",
      "[CV] C=0.75, decision_function_shape=ovr, gamma=1, kernel=linear .....\n",
      "[CV]  C=0.75, decision_function_shape=ovr, gamma=1, kernel=linear, score=0.989, total=   4.2s\n",
      "[CV] C=0.75, decision_function_shape=ovr, gamma=1, kernel=linear .....\n",
      "[CV]  C=0.75, decision_function_shape=ovr, gamma=1, kernel=linear, score=0.989, total=   1.1s\n",
      "[CV] C=0.75, decision_function_shape=ovr, gamma=1, kernel=linear .....\n",
      "[CV]  C=0.75, decision_function_shape=ovr, gamma=1, kernel=linear, score=0.986, total=   4.8s\n",
      "[CV] C=0.75, decision_function_shape=ovr, gamma=1, kernel=rbf ........\n",
      "[CV]  C=0.75, decision_function_shape=ovr, gamma=1, kernel=rbf, score=0.514, total=   0.3s\n",
      "[CV] C=0.75, decision_function_shape=ovr, gamma=1, kernel=rbf ........\n",
      "[CV]  C=0.75, decision_function_shape=ovr, gamma=1, kernel=rbf, score=0.511, total=   0.3s\n",
      "[CV] C=0.75, decision_function_shape=ovr, gamma=1, kernel=rbf ........\n",
      "[CV]  C=0.75, decision_function_shape=ovr, gamma=1, kernel=rbf, score=0.511, total=   0.2s\n",
      "[CV] C=0.75, decision_function_shape=ovr, gamma=1, kernel=rbf ........\n",
      "[CV]  C=0.75, decision_function_shape=ovr, gamma=1, kernel=rbf, score=0.511, total=   0.3s\n",
      "[CV] C=0.75, decision_function_shape=ovr, gamma=1, kernel=rbf ........\n",
      "[CV]  C=0.75, decision_function_shape=ovr, gamma=1, kernel=rbf, score=0.511, total=   0.2s\n"
     ]
    },
    {
     "name": "stderr",
     "output_type": "stream",
     "text": [
      "[Parallel(n_jobs=1)]: Done 400 out of 400 | elapsed: 10.7min finished\n"
     ]
    },
    {
     "name": "stdout",
     "output_type": "stream",
     "text": [
      "best score:  0.99\n",
      "best param:  {'C': 0.25, 'decision_function_shape': 'ovo', 'gamma': 'auto', 'kernel': 'linear'}\n"
     ]
    }
   ],
   "source": [
    "svmg=SVC(random_state=1)\n",
    "grid_svm=GridSearchCV(estimator=svmg,cv=5,param_grid=dict(kernel=kernel,C=C, gamma=gamma, decision_function_shape=decision_function_shape),verbose = 5\n",
    "                     )\n",
    "grid_svm.fit(x_train,y_train)\n",
    "print(\"best score: \", grid_svm.best_score_)\n",
    "print(\"best param: \", grid_svm.best_params_)\n",
    "#so it is also gives cross fold validation so my model will be trained with all possible \n",
    "#patterns "
   ]
  },
  {
   "cell_type": "code",
   "execution_count": 29,
   "metadata": {},
   "outputs": [
    {
     "data": {
      "text/plain": [
       "'so gridsearch where we provide all possible parameters and kernal and it \\nwill give summary which parameters are giving better result so we can train model with\\nthose parameters finally.'"
      ]
     },
     "execution_count": 29,
     "metadata": {},
     "output_type": "execute_result"
    }
   ],
   "source": [
    "#in general summery which parameters and kernal gives best result \n",
    "# as we know SVM is very tough to understand as well as to plot it \n",
    "# it also complicated while selecting kernal \n",
    "'''so gridsearch where we provide all possible parameters and kernal and it \n",
    "will give summary which parameters are giving better result so we can train model with\n",
    "those parameters finally.'''"
   ]
  },
  {
   "cell_type": "code",
   "execution_count": 40,
   "metadata": {},
   "outputs": [],
   "source": [
    "# we can see all iteration it is showing to us."
   ]
  },
  {
   "cell_type": "code",
   "execution_count": 41,
   "metadata": {},
   "outputs": [
    {
     "data": {
      "text/plain": [
       "\"\\nbest score:  0.96375\\nbest param:  {'C': 2, 'decision_function_shape': 'ovo', 'gamma': 'auto', 'kernel': 'linear'}\\n\""
      ]
     },
     "execution_count": 41,
     "metadata": {},
     "output_type": "execute_result"
    }
   ],
   "source": [
    "'''\n",
    "best score:  0.96375\n",
    "best param:  {'C': 2, 'decision_function_shape': 'ovo', 'gamma': 'auto', 'kernel': 'linear'}\n",
    "'''"
   ]
  },
  {
   "cell_type": "code",
   "execution_count": 42,
   "metadata": {},
   "outputs": [
    {
     "data": {
      "text/plain": [
       "SVC(C=2, break_ties=False, cache_size=200, class_weight=None, coef0=0.0,\n",
       "    decision_function_shape='ovo', degree=3, gamma='auto', kernel='linear',\n",
       "    max_iter=-1, probability=False, random_state=1, shrinking=True, tol=0.001,\n",
       "    verbose=False)"
      ]
     },
     "execution_count": 42,
     "metadata": {},
     "output_type": "execute_result"
    }
   ],
   "source": [
    "svm_model=SVC(C=2,decision_function_shape=\"ovo\",gamma=\"auto\",kernel=\"linear\",random_state=1)\n",
    "svm_model.fit(x_train,y_train)"
   ]
  },
  {
   "cell_type": "code",
   "execution_count": 43,
   "metadata": {},
   "outputs": [],
   "source": [
    "y_pred=svm_model.predict(x_test)"
   ]
  },
  {
   "cell_type": "code",
   "execution_count": 44,
   "metadata": {},
   "outputs": [
    {
     "name": "stdout",
     "output_type": "stream",
     "text": [
      "              precision    recall  f1-score   support\n",
      "\n",
      "           0       0.97      0.99      0.98       284\n",
      "           1       0.99      0.97      0.98       316\n",
      "\n",
      "    accuracy                           0.98       600\n",
      "   macro avg       0.98      0.98      0.98       600\n",
      "weighted avg       0.98      0.98      0.98       600\n",
      "\n"
     ]
    }
   ],
   "source": [
    "print(classification_report(y_test,y_pred))"
   ]
  },
  {
   "cell_type": "code",
   "execution_count": null,
   "metadata": {},
   "outputs": [],
   "source": []
  }
 ],
 "metadata": {
  "kernelspec": {
   "display_name": "Python 3",
   "language": "python",
   "name": "python3"
  },
  "language_info": {
   "codemirror_mode": {
    "name": "ipython",
    "version": 3
   },
   "file_extension": ".py",
   "mimetype": "text/x-python",
   "name": "python",
   "nbconvert_exporter": "python",
   "pygments_lexer": "ipython3",
   "version": "3.7.4"
  }
 },
 "nbformat": 4,
 "nbformat_minor": 2
}
