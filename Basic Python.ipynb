{
 "cells": [
  {
   "cell_type": "markdown",
   "metadata": {},
   "source": [
    "# Python Basics"
   ]
  },
  {
   "cell_type": "code",
   "execution_count": null,
   "metadata": {},
   "outputs": [],
   "source": [
    "'''\n",
    "what is variable ?\n",
    "variable is used to store some values runtime in program \n",
    "variable can have name,datatype and values \n",
    "\n",
    "Example create varibale \n",
    "'''"
   ]
  },
  {
   "cell_type": "code",
   "execution_count": 1,
   "metadata": {},
   "outputs": [
    {
     "data": {
      "text/plain": [
       "int"
      ]
     },
     "execution_count": 1,
     "metadata": {},
     "output_type": "execute_result"
    }
   ],
   "source": [
    "x=int()\n",
    "x=float()\n",
    "x=bool()\n",
    "x=str()\n",
    "x=set()\n",
    "x=dict()\n",
    "x=list()\n",
    "x=tuple()\n",
    "'''\n",
    "    python have dynamic memory management and thas why python variable are dynamic in data type \n",
    "    built in datatypes \n",
    "        basic datatypes\n",
    "            string : alphanumeric \n",
    "            int :\n",
    "            float : \n",
    "            boolean\n",
    "        collection datatypes \n",
    "            set\n",
    "            list\n",
    "            tuple \n",
    "            dictionary \n",
    "'''"
   ]
  },
  {
   "cell_type": "code",
   "execution_count": null,
   "metadata": {},
   "outputs": [],
   "source": [
    "'''\n",
    "    type of loops in python \n",
    "    1) for loop \n",
    "    2)infinite loop \n",
    "    3)conditional loop \n",
    "******************************************************\n",
    "                forloop\n",
    "******************************************************\n",
    "loop is used when number of iteration is known \n",
    "it behave like foreach loop \n",
    "exampe :- \n",
    "l=[100,200,300]\n",
    "for i in l:\n",
    "  print(i) \n",
    "'''"
   ]
  },
  {
   "cell_type": "code",
   "execution_count": 6,
   "metadata": {},
   "outputs": [],
   "source": [
    "x=[10,2,7,3,0,-1]\n",
    "#find odd values from above list \n",
    "x=[i for i in x if i%2 !=0]\n"
   ]
  },
  {
   "cell_type": "code",
   "execution_count": 7,
   "metadata": {},
   "outputs": [
    {
     "data": {
      "text/plain": [
       "[7, 3, -1]"
      ]
     },
     "execution_count": 7,
     "metadata": {},
     "output_type": "execute_result"
    }
   ],
   "source": [
    "x"
   ]
  },
  {
   "cell_type": "code",
   "execution_count": 9,
   "metadata": {},
   "outputs": [
    {
     "name": "stdout",
     "output_type": "stream",
     "text": [
      "10,12,14,16,18,20,22,24,26,28,30,32,34,36,38,40,42,44,46,48,"
     ]
    }
   ],
   "source": [
    "for i in range(10,50,2):\n",
    "    print(i,end=',')"
   ]
  },
  {
   "cell_type": "code",
   "execution_count": 11,
   "metadata": {},
   "outputs": [
    {
     "name": "stdout",
     "output_type": "stream",
     "text": [
      "1,2,3,4,5,"
     ]
    }
   ],
   "source": [
    "'''infinite loop'''\n",
    "i=1\n",
    "while True:\n",
    "    print(i,end=',')\n",
    "    i=i+1\n",
    "    if i >5:\n",
    "        break\n",
    "    "
   ]
  },
  {
   "cell_type": "code",
   "execution_count": 13,
   "metadata": {},
   "outputs": [
    {
     "name": "stdout",
     "output_type": "stream",
     "text": [
      "10,11,12,13,14,15,16,17,18,19,20,"
     ]
    }
   ],
   "source": [
    "'''conditional loops'''\n",
    "i=10\n",
    "while i <=20:\n",
    "    print(i,end=',')\n",
    "    i=i+1"
   ]
  },
  {
   "cell_type": "code",
   "execution_count": 14,
   "metadata": {},
   "outputs": [
    {
     "data": {
      "text/plain": [
       "'\\nfunctions in python\\n1)built in functions\\n2)user define functions\\nchr()\\ntype()\\nfrozenset()\\nmap()\\njoin()\\nopen()\\nrange()\\nprint()\\nround()\\nord()\\ninput()\\ndir()\\nid()\\nformat()\\nenumarate()\\nbytes()\\nbin()\\n\\nuser define functions have 4 types \\n1)no return no parameter \\n2)return no parameter \\n3)no return parameter\\n4)return and parameter both \\n    1)recursion \\nspecial user define function \\n1)Lambda expression\\n'"
      ]
     },
     "execution_count": 14,
     "metadata": {},
     "output_type": "execute_result"
    }
   ],
   "source": [
    "'''\n",
    "functions in python\n",
    "1)built in functions\n",
    "2)user define functions\n",
    "chr()\n",
    "type()\n",
    "frozenset()\n",
    "map()\n",
    "join()\n",
    "open()\n",
    "range()\n",
    "print()\n",
    "round()\n",
    "ord()\n",
    "input()\n",
    "dir()\n",
    "id()\n",
    "format()\n",
    "enumarate()\n",
    "bytes()\n",
    "bin()\n",
    "\n",
    "user define functions have 4 types \n",
    "1)no return no parameter \n",
    "2)return no parameter \n",
    "3)no return parameter\n",
    "4)return and parameter both \n",
    "    1)recursion \n",
    "special user define function \n",
    "1)Lambda expression\n",
    "'''"
   ]
  },
  {
   "cell_type": "code",
   "execution_count": 15,
   "metadata": {},
   "outputs": [],
   "source": [
    "def fact(n):\n",
    "    f=1\n",
    "    for i in range(n,1,-1):\n",
    "        f=f*i\n",
    "    return f"
   ]
  },
  {
   "cell_type": "code",
   "execution_count": 16,
   "metadata": {},
   "outputs": [
    {
     "data": {
      "text/plain": [
       "120"
      ]
     },
     "execution_count": 16,
     "metadata": {},
     "output_type": "execute_result"
    }
   ],
   "source": [
    "fact(5)"
   ]
  },
  {
   "cell_type": "code",
   "execution_count": 17,
   "metadata": {},
   "outputs": [],
   "source": [
    "#have parameter but no return \n",
    "def sumdata(l):\n",
    "    s=0\n",
    "    for i in l:\n",
    "        s=s+i\n",
    "    print(s)"
   ]
  },
  {
   "cell_type": "code",
   "execution_count": 18,
   "metadata": {},
   "outputs": [
    {
     "name": "stdout",
     "output_type": "stream",
     "text": [
      "100\n"
     ]
    }
   ],
   "source": [
    "l=[10,20,30,40]\n",
    "h=sumdata(l)"
   ]
  },
  {
   "cell_type": "code",
   "execution_count": 20,
   "metadata": {},
   "outputs": [
    {
     "data": {
      "text/plain": [
       "NoneType"
      ]
     },
     "execution_count": 20,
     "metadata": {},
     "output_type": "execute_result"
    }
   ],
   "source": [
    "type(h)"
   ]
  },
  {
   "cell_type": "code",
   "execution_count": 21,
   "metadata": {},
   "outputs": [
    {
     "name": "stdout",
     "output_type": "stream",
     "text": [
      "100\n"
     ]
    }
   ],
   "source": [
    "sumdata(l)"
   ]
  },
  {
   "cell_type": "code",
   "execution_count": null,
   "metadata": {},
   "outputs": [],
   "source": [
    "'''note python always return nonetype by default '''\n",
    "'''\n",
    "functions parameter type \n",
    "\n",
    "1)regular parameter \n",
    "2)default paramegter \n",
    "3)keyword parameter \n",
    "4)variable length argument parmaeter \n",
    "    1) *argv\n",
    "    2) **kwargv\n",
    "\n",
    "function\n",
    "modules \n",
    "file handling \n",
    "exception \n",
    "oop concepts \n",
    "'''\n"
   ]
  }
 ],
 "metadata": {
  "kernelspec": {
   "display_name": "Python 3",
   "language": "python",
   "name": "python3"
  },
  "language_info": {
   "codemirror_mode": {
    "name": "ipython",
    "version": 3
   },
   "file_extension": ".py",
   "mimetype": "text/x-python",
   "name": "python",
   "nbconvert_exporter": "python",
   "pygments_lexer": "ipython3",
   "version": "3.7.4"
  }
 },
 "nbformat": 4,
 "nbformat_minor": 2
}
