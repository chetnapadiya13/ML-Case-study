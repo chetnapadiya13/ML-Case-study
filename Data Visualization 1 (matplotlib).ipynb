{
 "cells": [
  {
   "cell_type": "code",
   "execution_count": null,
   "metadata": {},
   "outputs": [],
   "source": [
    "'''\n",
    "Data visulaization is pictorial representation of your data \n",
    "it helps us to understand data and to find insight \n",
    "for any sort of business data is very much important to understand \n",
    "your business analyz your data is enogh \n",
    "\n",
    "In python there are various way to do data visualization here initially we are gonna consider \n",
    "1) Matplotlib\n",
    "2) Seaborn \n",
    "\n",
    "above two are modules in python if we are using anaconda it is already installed \n",
    "but if we are using basic python then we need to install it to install write given commands \n",
    "1) pip install matplotlib\n",
    "2) pip install seaborn \n",
    "\n",
    "'''"
   ]
  },
  {
   "cell_type": "code",
   "execution_count": null,
   "metadata": {},
   "outputs": [],
   "source": [
    "import matplotlib.pyplot as plt #import matplot.pyplot\n",
    "import numpy as np\n",
    "import pandas as pd "
   ]
  },
  {
   "cell_type": "markdown",
   "metadata": {},
   "source": [
    "# 1) Line Plot "
   ]
  },
  {
   "cell_type": "code",
   "execution_count": null,
   "metadata": {},
   "outputs": [],
   "source": [
    "x=[1,2,5,7,9,11]\n",
    "y=[11,14,15,19,24,25]"
   ]
  },
  {
   "cell_type": "code",
   "execution_count": null,
   "metadata": {},
   "outputs": [],
   "source": [
    "plt.plot(x,y)\n",
    "plt.show()"
   ]
  },
  {
   "cell_type": "code",
   "execution_count": null,
   "metadata": {},
   "outputs": [],
   "source": [
    "'''\n",
    "type of lines \n",
    "1) straigh line \n",
    "2) sin wave line \n",
    "3)zigzag lines \n",
    "4)squiggly lines  \n",
    "\n",
    "some kind of math formula for making a lines let's see \n",
    "'''"
   ]
  },
  {
   "cell_type": "code",
   "execution_count": null,
   "metadata": {},
   "outputs": [],
   "source": [
    "x=np.arange(0,10,0.1)"
   ]
  },
  {
   "cell_type": "code",
   "execution_count": null,
   "metadata": {},
   "outputs": [],
   "source": [
    "x"
   ]
  },
  {
   "cell_type": "code",
   "execution_count": null,
   "metadata": {},
   "outputs": [],
   "source": [
    "y=np.sin(x)"
   ]
  },
  {
   "cell_type": "code",
   "execution_count": null,
   "metadata": {},
   "outputs": [],
   "source": [
    "y"
   ]
  },
  {
   "cell_type": "code",
   "execution_count": null,
   "metadata": {},
   "outputs": [],
   "source": [
    "len(x)"
   ]
  },
  {
   "cell_type": "code",
   "execution_count": null,
   "metadata": {},
   "outputs": [],
   "source": [
    "len(y)"
   ]
  },
  {
   "cell_type": "code",
   "execution_count": null,
   "metadata": {},
   "outputs": [],
   "source": [
    "plt.plot(x,y)\n",
    "plt.show()"
   ]
  },
  {
   "cell_type": "markdown",
   "metadata": {},
   "source": [
    "# Figsize ,Labels and title "
   ]
  },
  {
   "cell_type": "code",
   "execution_count": null,
   "metadata": {},
   "outputs": [],
   "source": [
    "#drow a line chart to represnt housing data \n",
    "area =[600,800,1000,1200,1500] #sqft\n",
    "price=[15,18,25,35,40] # price in lacs "
   ]
  },
  {
   "cell_type": "code",
   "execution_count": null,
   "metadata": {},
   "outputs": [],
   "source": [
    "plt.figure(figsize=(7,7))\n",
    "plt.plot(area,price)\n",
    "plt.title(\"Housing Data Area Vs Price \")\n",
    "plt.xlabel(\"Area in sqft\")\n",
    "plt.ylabel(\"Price in Lac\")\n",
    "plt.show()\n",
    "#here we are drowing line which connects each datapoints "
   ]
  },
  {
   "cell_type": "code",
   "execution_count": null,
   "metadata": {},
   "outputs": [],
   "source": [
    "plt.figure(figsize=(7,7))\n",
    "plt.plot(area,price)\n",
    "plt.title(\"Housing Data Area Vs Price \")\n",
    "plt.xlabel(\"Area in sqft\")\n",
    "plt.ylabel(\"Price in Lac\")\n",
    "plt.xlim((400,2000))\n",
    "plt.ylim((5,50))\n",
    "plt.show()"
   ]
  },
  {
   "cell_type": "code",
   "execution_count": null,
   "metadata": {},
   "outputs": [],
   "source": [
    "plt.figure(figsize=(7,7))\n",
    "plt.plot(area,price)\n",
    "plt.title(\"Housing Data Area Vs Price \")\n",
    "plt.xlabel(\"Area in sqft\")\n",
    "plt.ylabel(\"Price in Lac\")\n",
    "plt.xticks(rotation=45)\n",
    "plt.yticks(rotation=90)\n",
    "plt.show()"
   ]
  },
  {
   "cell_type": "markdown",
   "metadata": {},
   "source": [
    "# Multiple Plots"
   ]
  },
  {
   "cell_type": "code",
   "execution_count": null,
   "metadata": {},
   "outputs": [],
   "source": [
    "x=np.arange(1,10)\n",
    "y1=np.sqrt(x)\n",
    "y2=np.log(x)"
   ]
  },
  {
   "cell_type": "code",
   "execution_count": null,
   "metadata": {},
   "outputs": [],
   "source": [
    "x"
   ]
  },
  {
   "cell_type": "code",
   "execution_count": null,
   "metadata": {},
   "outputs": [],
   "source": [
    "y1"
   ]
  },
  {
   "cell_type": "code",
   "execution_count": null,
   "metadata": {},
   "outputs": [],
   "source": [
    "y2"
   ]
  },
  {
   "cell_type": "code",
   "execution_count": null,
   "metadata": {},
   "outputs": [],
   "source": [
    "plt.plot(x,y1,'ro',color=\"blue\")\n",
    "plt.plot(x,y2,'ro',color=\"red\")\n",
    "plt.legend(labels=[\"square root\",\"log\"])\n",
    "plt.show()"
   ]
  },
  {
   "cell_type": "markdown",
   "metadata": {},
   "source": [
    "# 2) Histograms"
   ]
  },
  {
   "cell_type": "code",
   "execution_count": null,
   "metadata": {},
   "outputs": [],
   "source": [
    "import pandas as pd\n",
    "import matplotlib.pyplot as plt\n",
    "import numpy as np\n",
    "# Continuos we use Histogram \n"
   ]
  },
  {
   "cell_type": "code",
   "execution_count": null,
   "metadata": {},
   "outputs": [],
   "source": [
    "df=pd.read_csv(\"data//Automobile_data.csv\")\n",
    "df"
   ]
  },
  {
   "cell_type": "code",
   "execution_count": null,
   "metadata": {},
   "outputs": [],
   "source": [
    "df.info()"
   ]
  },
  {
   "cell_type": "code",
   "execution_count": null,
   "metadata": {},
   "outputs": [],
   "source": [
    "df['width'] #its width of engine "
   ]
  },
  {
   "cell_type": "code",
   "execution_count": null,
   "metadata": {},
   "outputs": [],
   "source": [
    "plt.figure(figsize=(7,7))\n",
    "plt.hist(df['width'],bins=10)\n",
    "plt.title(\"width frequency distribution\")\n",
    "plt.ylabel(\"frequency\")\n",
    "plt.xlabel(\"width\")\n",
    "plt.show()"
   ]
  },
  {
   "cell_type": "code",
   "execution_count": null,
   "metadata": {},
   "outputs": [],
   "source": [
    "# using pandas directly plot chart \n",
    "plt.figure(figsize=(7,7))\n",
    "df[\"width\"].hist(bins=10)\n",
    "plt.title(\"Width frequency distribution\")\n",
    "plt.ylabel(\"frequency\")\n",
    "plt.xlabel(\"width\")\n",
    "plt.show()"
   ]
  },
  {
   "cell_type": "code",
   "execution_count": null,
   "metadata": {},
   "outputs": [],
   "source": [
    "width_mean=df[\"width\"].mean()\n",
    "width_median=df[\"width\"].median()"
   ]
  },
  {
   "cell_type": "code",
   "execution_count": null,
   "metadata": {},
   "outputs": [],
   "source": [
    "width_mean"
   ]
  },
  {
   "cell_type": "code",
   "execution_count": null,
   "metadata": {},
   "outputs": [],
   "source": [
    "width_median"
   ]
  },
  {
   "cell_type": "code",
   "execution_count": null,
   "metadata": {},
   "outputs": [],
   "source": [
    "plt.figure(figsize=(7,7))\n",
    "df[\"width\"].hist(bins=10)\n",
    "plt.title(\"Width frequency distribution\")\n",
    "plt.axvline(width_mean,color=\"red\")\n",
    "plt.axvline(width_median,color=\"yellow\")\n",
    "plt.ylabel(\"frequency\")\n",
    "plt.xlabel(\"width\")\n",
    "plt.show()"
   ]
  },
  {
   "cell_type": "markdown",
   "metadata": {},
   "source": [
    "# 3) Bar plot"
   ]
  },
  {
   "cell_type": "code",
   "execution_count": null,
   "metadata": {},
   "outputs": [],
   "source": [
    "df.columns"
   ]
  },
  {
   "cell_type": "code",
   "execution_count": null,
   "metadata": {},
   "outputs": [],
   "source": [
    "plt.figure(figsize=(9,9))\n",
    "df['make'].value_counts().plot(kind=\"bar\")\n",
    "plt.title(\"Make count bar plot\")\n",
    "plt.ylabel(\"Count\")\n",
    "plt.xlabel(\"Make\")\n",
    "plt.show()"
   ]
  },
  {
   "cell_type": "code",
   "execution_count": null,
   "metadata": {},
   "outputs": [],
   "source": [
    "plt.figure(figsize=(9,9))\n",
    "df['make'].value_counts().plot(kind=\"barh\") #bar represent in horizontal \n",
    "plt.title(\"Make count bar plot\")\n",
    "plt.ylabel(\"Count\")\n",
    "plt.xlabel(\"Make\")\n",
    "plt.show()"
   ]
  },
  {
   "cell_type": "markdown",
   "metadata": {},
   "source": [
    "# 4)Pie Chart"
   ]
  },
  {
   "cell_type": "code",
   "execution_count": null,
   "metadata": {},
   "outputs": [],
   "source": [
    "plt.figure(figsize=(7,7))\n",
    "df[\"body-style\"].value_counts().plot.pie()\n",
    "plt.title(\"Body-style count pie chart\")\n",
    "plt.show()"
   ]
  },
  {
   "cell_type": "code",
   "execution_count": null,
   "metadata": {},
   "outputs": [],
   "source": [
    "plt.figure(figsize=(7,7))\n",
    "df[\"body-style\"].value_counts().plot.pie(autopct=\"%1.1f%%\")\n",
    "plt.title(\"Body-style count pie chart\")\n",
    "plt.show()"
   ]
  },
  {
   "cell_type": "code",
   "execution_count": null,
   "metadata": {},
   "outputs": [],
   "source": [
    "plt.figure(figsize=(7,7))\n",
    "df[\"body-style\"].value_counts().plot.pie(autopct=\"%1.1f%%\",explode=(0,0,0.1,0,0))\n",
    "plt.title(\"Body-style count pie chart\")\n",
    "plt.show()"
   ]
  },
  {
   "cell_type": "code",
   "execution_count": null,
   "metadata": {},
   "outputs": [],
   "source": [
    "df[\"body-style\"].value_counts()"
   ]
  },
  {
   "cell_type": "markdown",
   "metadata": {},
   "source": [
    "# 5) Scatter Plot"
   ]
  },
  {
   "cell_type": "code",
   "execution_count": null,
   "metadata": {},
   "outputs": [],
   "source": [
    "#correlation \n",
    "'''\n",
    "correlation defines relationship between features in data science your data set have \n",
    "columns those columns data we use to train our ML model so those columns we can \n",
    "variable or feature for algorithm \n",
    "some of ml algorith developed on based of this kind of relations \n",
    "Example \n",
    "while buying house we check \n",
    "SQFT and aminities and location  this feature will define price of house \n",
    "1500,5,Andheri then i can say price of house can be in cr \n",
    "so here sqft,location,aminites 3 are features and price is ourput or label \n",
    "in this example above 3 feature have correlation with price feature \n",
    "by changing on feature value if value of dependent feature changes then it is correlated \n",
    "x1,x2,x3 (independet) if value this variable change it chaning value of y as well \n",
    "y(dependent )\n",
    "'''"
   ]
  },
  {
   "cell_type": "code",
   "execution_count": null,
   "metadata": {},
   "outputs": [],
   "source": [
    "df.corr()"
   ]
  },
  {
   "cell_type": "code",
   "execution_count": null,
   "metadata": {},
   "outputs": [],
   "source": [
    "'''correlation can be near to 1 if it is 1 that means fully correlated that is possible if \n",
    "feature is checking correlation with itself \n",
    "if correlation comes in minus that means it is negativly correlated \n",
    "and if it is positive then it is positivly correlated \n",
    "'''"
   ]
  },
  {
   "cell_type": "code",
   "execution_count": null,
   "metadata": {},
   "outputs": [],
   "source": [
    "plt.figure(figsize=(7,7))\n",
    "plt.scatter(x=df[\"width\"],y=df[\"price\"])\n",
    "plt.title(\"width vs price\")\n",
    "plt.ylabel(\"price\") #price is dependent\n",
    "plt.xlabel(\"width\") #independet \n",
    "plt.show()"
   ]
  },
  {
   "cell_type": "code",
   "execution_count": null,
   "metadata": {},
   "outputs": [],
   "source": [
    "plt.figure(figsize=(7,7))\n",
    "plt.scatter(x=df[\"engine-size\"],y=df[\"price\"])\n",
    "plt.title(\"engine-size vs price\")\n",
    "plt.ylabel(\"price\") #price is dependent\n",
    "plt.xlabel(\"engine-size\") #independet \n",
    "plt.show()"
   ]
  },
  {
   "cell_type": "code",
   "execution_count": null,
   "metadata": {},
   "outputs": [],
   "source": [
    "plt.figure(figsize=(7,7))\n",
    "plt.scatter(x=df[\"height\"],y=df[\"price\"])\n",
    "plt.title(\"height vs price\")\n",
    "plt.ylabel(\"price\") #price is dependent\n",
    "plt.xlabel(\"height\") #independet \n",
    "plt.show()"
   ]
  },
  {
   "cell_type": "code",
   "execution_count": null,
   "metadata": {},
   "outputs": [],
   "source": [
    "plt.figure(figsize=(7,7))\n",
    "plt.scatter(x=df[\"city-mpg\"],y=df[\"price\"])\n",
    "plt.title(\"city-mpg vs price\")\n",
    "plt.ylabel(\"price\") #price is dependent\n",
    "plt.xlabel(\"city-mpg\") #independet \n",
    "plt.show()"
   ]
  },
  {
   "cell_type": "code",
   "execution_count": null,
   "metadata": {},
   "outputs": [],
   "source": []
  }
 ],
 "metadata": {
  "kernelspec": {
   "display_name": "Python 3",
   "language": "python",
   "name": "python3"
  },
  "language_info": {
   "codemirror_mode": {
    "name": "ipython",
    "version": 3
   },
   "file_extension": ".py",
   "mimetype": "text/x-python",
   "name": "python",
   "nbconvert_exporter": "python",
   "pygments_lexer": "ipython3",
   "version": "3.7.4"
  }
 },
 "nbformat": 4,
 "nbformat_minor": 2
}
