{
 "cells": [
  {
   "cell_type": "code",
   "execution_count": null,
   "metadata": {},
   "outputs": [],
   "source": [
    "'''\n",
    "what is list comprehension \n",
    "in most elegant way working with list in short line of code \n",
    "used when we want to process some huge list data along with business logic \n",
    "and we want return list itself as an output we can go for \n",
    "list comprehension \n",
    "x=[0,10,2,3,-1,5] #combination of odd and eveb \n",
    "out of above combination as developer i have requirment to find \n",
    "list of all even numbers \n",
    "'''"
   ]
  },
  {
   "cell_type": "code",
   "execution_count": 1,
   "metadata": {},
   "outputs": [],
   "source": [
    "x=[0,10,2,3,-1,5] "
   ]
  },
  {
   "cell_type": "code",
   "execution_count": 2,
   "metadata": {},
   "outputs": [
    {
     "data": {
      "text/plain": [
       "[0, 10, 2, 3, -1, 5]"
      ]
     },
     "execution_count": 2,
     "metadata": {},
     "output_type": "execute_result"
    }
   ],
   "source": [
    "x"
   ]
  },
  {
   "cell_type": "code",
   "execution_count": 3,
   "metadata": {},
   "outputs": [],
   "source": [
    "even=[i for i in x if i%2==0] #simple if condition"
   ]
  },
  {
   "cell_type": "code",
   "execution_count": 4,
   "metadata": {},
   "outputs": [
    {
     "data": {
      "text/plain": [
       "[0, 10, 2]"
      ]
     },
     "execution_count": 4,
     "metadata": {},
     "output_type": "execute_result"
    }
   ],
   "source": [
    "even"
   ]
  },
  {
   "cell_type": "code",
   "execution_count": 5,
   "metadata": {},
   "outputs": [
    {
     "data": {
      "text/plain": [
       "[0, 10, 2, 3, -1, 5]"
      ]
     },
     "execution_count": 5,
     "metadata": {},
     "output_type": "execute_result"
    }
   ],
   "source": [
    "#return even and odd if number is even it should return even else odd \n",
    "x"
   ]
  },
  {
   "cell_type": "code",
   "execution_count": 6,
   "metadata": {},
   "outputs": [],
   "source": [
    "datachk=[\"even\" if i%2==0 else \"odd\" for i in x] #if else condition"
   ]
  },
  {
   "cell_type": "code",
   "execution_count": 7,
   "metadata": {},
   "outputs": [
    {
     "data": {
      "text/plain": [
       "['even', 'even', 'even', 'odd', 'odd', 'odd']"
      ]
     },
     "execution_count": 7,
     "metadata": {},
     "output_type": "execute_result"
    }
   ],
   "source": [
    "datachk"
   ]
  },
  {
   "cell_type": "code",
   "execution_count": 9,
   "metadata": {},
   "outputs": [
    {
     "name": "stdout",
     "output_type": "stream",
     "text": [
      "[[1, 4], [2, 5], [3, 6], [10, 17]]\n"
     ]
    }
   ],
   "source": [
    "#nested list comprehension \n",
    "#Transpose matrix (basic transpose matrix logic)\n",
    "#input\n",
    "matrix=[[1,2,3,10],[4,5,6,17]]\n",
    "'''\n",
    "output :- \n",
    "    [[1,4],[2,5],[3,6],[10,17]]\n",
    "'''\n",
    "transposed=[]\n",
    "for i in range(len(matrix[0])):\n",
    "    transpose_row=[]\n",
    "    for j in matrix:\n",
    "        transpose_row.append(j[i])#took elemnst from both row and append\n",
    "    transposed.append(transpose_row)#now append transpose_row into mainlist\n",
    "print(transposed)"
   ]
  },
  {
   "cell_type": "code",
   "execution_count": 10,
   "metadata": {},
   "outputs": [
    {
     "data": {
      "text/plain": [
       "[[1, 4], [2, 5], [3, 6], [10, 17]]"
      ]
     },
     "execution_count": 10,
     "metadata": {},
     "output_type": "execute_result"
    }
   ],
   "source": [
    "transposed"
   ]
  },
  {
   "cell_type": "code",
   "execution_count": 11,
   "metadata": {},
   "outputs": [],
   "source": [
    "#convert transposed into original form \n",
    "matrix=[[1, 4], [2, 5], [3, 6], [10, 17]]\n",
    "transpose=[[j[i] for j in matrix] for i in range(2)]"
   ]
  },
  {
   "cell_type": "code",
   "execution_count": 12,
   "metadata": {},
   "outputs": [
    {
     "data": {
      "text/plain": [
       "[[1, 2, 3, 10], [4, 5, 6, 17]]"
      ]
     },
     "execution_count": 12,
     "metadata": {},
     "output_type": "execute_result"
    }
   ],
   "source": [
    "transpose"
   ]
  },
  {
   "cell_type": "code",
   "execution_count": 13,
   "metadata": {},
   "outputs": [],
   "source": [
    "#convert transposed into original form \n",
    "matrix=[[1, 2, 3, 10], [4, 5, 6, 17]]\n",
    "transpose=[[j[i] for j in matrix] for i in range(4)]"
   ]
  },
  {
   "cell_type": "code",
   "execution_count": 14,
   "metadata": {},
   "outputs": [
    {
     "data": {
      "text/plain": [
       "[[1, 4], [2, 5], [3, 6], [10, 17]]"
      ]
     },
     "execution_count": 14,
     "metadata": {},
     "output_type": "execute_result"
    }
   ],
   "source": [
    "transpose"
   ]
  },
  {
   "cell_type": "code",
   "execution_count": 25,
   "metadata": {},
   "outputs": [],
   "source": [
    "s=\"Python\"\n",
    "k=[i.upper() for i in s]"
   ]
  },
  {
   "cell_type": "code",
   "execution_count": 26,
   "metadata": {},
   "outputs": [
    {
     "data": {
      "text/plain": [
       "['P', 'Y', 'T', 'H', 'O', 'N']"
      ]
     },
     "execution_count": 26,
     "metadata": {},
     "output_type": "execute_result"
    }
   ],
   "source": [
    "k"
   ]
  },
  {
   "cell_type": "code",
   "execution_count": 27,
   "metadata": {},
   "outputs": [
    {
     "data": {
      "text/plain": [
       "'Python'"
      ]
     },
     "execution_count": 27,
     "metadata": {},
     "output_type": "execute_result"
    }
   ],
   "source": [
    "s"
   ]
  },
  {
   "cell_type": "code",
   "execution_count": 28,
   "metadata": {},
   "outputs": [
    {
     "ename": "SyntaxError",
     "evalue": "invalid syntax (<ipython-input-28-25afd54d2d79>, line 1)",
     "output_type": "error",
     "traceback": [
      "\u001b[1;36m  File \u001b[1;32m\"<ipython-input-28-25afd54d2d79>\"\u001b[1;36m, line \u001b[1;32m1\u001b[0m\n\u001b[1;33m    o,k=[i.upper(),j.lower() for i,j in s]\u001b[0m\n\u001b[1;37m                               ^\u001b[0m\n\u001b[1;31mSyntaxError\u001b[0m\u001b[1;31m:\u001b[0m invalid syntax\n"
     ]
    }
   ],
   "source": [
    "o,k=[i.upper(),j.lower() for i,j in s]"
   ]
  },
  {
   "cell_type": "code",
   "execution_count": 31,
   "metadata": {},
   "outputs": [
    {
     "data": {
      "text/plain": [
       "'Python'"
      ]
     },
     "execution_count": 31,
     "metadata": {},
     "output_type": "execute_result"
    }
   ],
   "source": [
    "s"
   ]
  },
  {
   "cell_type": "code",
   "execution_count": 32,
   "metadata": {},
   "outputs": [
    {
     "name": "stdout",
     "output_type": "stream",
     "text": [
      "[[1, 'foo', 'bar'], [2, 'tom', 'jerry']]\n"
     ]
    }
   ],
   "source": [
    "inputs = [\"1, foo, bar\", \"2,tom,jerry\"] \n",
    "#in above list 2 elements available \n",
    "'''output[[1,\"foo\",\"bar\"],[2,\"tom\",\"jerry\"]]\n",
    "'''\n",
    "outputs1 = [[int(x), y.strip(), z.strip()] for x,y,z in (s.split(',') for s in inputs)]\n",
    "print(outputs1)"
   ]
  },
  {
   "cell_type": "code",
   "execution_count": 33,
   "metadata": {},
   "outputs": [
    {
     "name": "stdout",
     "output_type": "stream",
     "text": [
      "1: [[1, 'foo', 'bar'], [2, 'tom', 'jerry']]\n",
      "2: [[1, 'foo', 'bar'], [2, 'tom', 'jerry']]\n",
      "3: [[1, 'foo', 'bar'], [2, 'tom', 'jerry']]\n",
      "4: [[1, 'foo', 'bar'], [2, 'tom', 'jerry']]\n"
     ]
    }
   ],
   "source": [
    "inputs = [\"1, foo, bar\", \"2,tom,  jerry\"]\n",
    "\n",
    "outputs1 = [[int(x), y.strip(), z.strip()] for x,y,z in (s.split(',') for s in inputs)]\n",
    "print(\"1:\", outputs1)       # jonrsharpe\n",
    "\n",
    "outputs2 = [(lambda x, y, z: [int(x), y.strip(), z.strip()])(*s.split(\",\")) for s in inputs]\n",
    "print(\"2:\", outputs2)       # yper\n",
    "\n",
    "outputs3 = [z for z in map(lambda x: [int(x[0]), x[1].strip(), x[2].strip()],[s.split(\",\") for s in inputs])]\n",
    "           [[1,'foo','bar']]                                                             ['1','foo','bar']   \"1,foo,bar\" \n",
    "print(\"3:\", outputs3)       # user2314737\n",
    "\n",
    "outputs4 = [[int(x), y.strip(), z.strip()] for s in inputs for (x, y, z) in [s.split(\",\")]]\n",
    "print(\"4:\", outputs4)       # kindall"
   ]
  },
  {
   "cell_type": "code",
   "execution_count": 34,
   "metadata": {},
   "outputs": [],
   "source": [
    "#lambda is shor function or we can say one line function without name \n",
    "#in python we want pass function as an argument we can use lambda \n",
    "\n",
    "x=lambda x : x*x*x\n"
   ]
  },
  {
   "cell_type": "code",
   "execution_count": 35,
   "metadata": {},
   "outputs": [
    {
     "data": {
      "text/plain": [
       "64"
      ]
     },
     "execution_count": 35,
     "metadata": {},
     "output_type": "execute_result"
    }
   ],
   "source": [
    "x(4)"
   ]
  },
  {
   "cell_type": "code",
   "execution_count": null,
   "metadata": {},
   "outputs": [],
   "source": []
  }
 ],
 "metadata": {
  "kernelspec": {
   "display_name": "Python 3",
   "language": "python",
   "name": "python3"
  },
  "language_info": {
   "codemirror_mode": {
    "name": "ipython",
    "version": 3
   },
   "file_extension": ".py",
   "mimetype": "text/x-python",
   "name": "python",
   "nbconvert_exporter": "python",
   "pygments_lexer": "ipython3",
   "version": "3.7.4"
  }
 },
 "nbformat": 4,
 "nbformat_minor": 2
}
